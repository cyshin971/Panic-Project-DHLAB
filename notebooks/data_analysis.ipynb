{
 "cells": [
  {
   "cell_type": "code",
   "execution_count": null,
   "id": "d9df09cb",
   "metadata": {},
   "outputs": [],
   "source": [
    "import config as cfg\n",
    "import logging\n",
    "\n",
    "import pandas as pd\n",
    "import numpy as np\n",
    "import matplotlib.pyplot as plt\n",
    "logging.getLogger('matplotlib').setLevel(logging.WARNING)"
   ]
  },
  {
   "cell_type": "code",
   "execution_count": null,
   "id": "cd8780ae",
   "metadata": {},
   "outputs": [],
   "source": [
    "METADATA_LJY_PATH = \"../_data/all_data_with_severity.csv\""
   ]
  },
  {
   "cell_type": "code",
   "execution_count": null,
   "id": "aab7722c",
   "metadata": {},
   "outputs": [],
   "source": [
    "demo_cols = [\n",
    "    'gender', 'age', 'marriage', 'job', 'smkHx', 'drinkHx', 'suicideHx'\n",
    "]\n",
    "dailylog_cols = [\n",
    "    'panic', 'severity', 'exercise', 'alcohol', 'coffee', 'menstruation',\n",
    "\t'smoking', 'positive_feeling', 'negative', 'positive_E', 'negative_E',\n",
    "\t'anxiety', 'annoying'\n",
    "]\n",
    "lifelog_cols = [\n",
    "\t'HR_var', 'HR_max', 'HR_mean', 'HR_hvar_mean', 'HR_acrophase', 'HR_amplitude',\n",
    " \t'HR_mesor','HR_acrophase_difference', 'HR_acrophase_difference_2d', 'HR_amplitude_difference',\n",
    "  \t'HR_amplitude_difference_2d', 'HR_mesor_difference', 'HR_mesor_difference_2d',\n",
    "\t'bandpower(0.001-0.0005Hz)', 'bandpower(0.0005-0.0001Hz)', 'bandpower(0.0001-0.00005Hz)', 'bandpower(0.00005-0.00001Hz)',\n",
    "\t'steps', 'SLT1', 'SLT2', 'SLT3', 'SLT4', 'SLT5', 'SLT6', 'total_sleep'\n",
    "]\n",
    "questionnaire_cols = [\n",
    "\t'PHQ_9', 'STAI_X2', 'CSM', 'CTQ_1', 'CTQ_2', 'CTQ_3', 'CTQ_4', 'CTQ_5', 'KRQ', 'MDQ',\n",
    " \t'ACQ', 'APPQ_1', 'APPQ_2', 'APPQ_3', 'BSQ', 'GAD_7', 'BRIAN'\n",
    "]\n",
    "all_cols = demo_cols + dailylog_cols + lifelog_cols + questionnaire_cols"
   ]
  },
  {
   "cell_type": "code",
   "execution_count": null,
   "id": "a279cfc5",
   "metadata": {},
   "outputs": [],
   "source": [
    "metadata_ljy = pd.read_csv(METADATA_LJY_PATH)\n",
    "\n",
    "# check if all columns are present\n",
    "missing_cols = [col for col in all_cols if col not in metadata_ljy.columns]\n",
    "if missing_cols:\n",
    "    print(f\"Missing columns in metadata_ljy: {missing_cols}\")\n",
    "# convert date column to datetime format\n",
    "metadata_ljy['date'] = pd.to_datetime(metadata_ljy['date'], format='%Y-%m-%d')"
   ]
  },
  {
   "cell_type": "code",
   "execution_count": null,
   "id": "09964c0f",
   "metadata": {},
   "outputs": [],
   "source": [
    "print(f\"Number of rows: {metadata_ljy.shape[0]}\")\n",
    "print(f\"Number of columns: {metadata_ljy.shape[1]}\")\n",
    "display(metadata_ljy.head(5))"
   ]
  },
  {
   "cell_type": "code",
   "execution_count": null,
   "id": "481804a2",
   "metadata": {},
   "outputs": [],
   "source": [
    "# Add 'dataset' column: source of data\n",
    "metadata_ljy['dataset'] = metadata_ljy['ID'].str.split('_').str[0]\n",
    "metadata_ljy['dataset'] = metadata_ljy['dataset'].str.split('-').str[0]\n",
    "unique_dataset = metadata_ljy['dataset'].unique()\n",
    "print(\"Unique sources in metadata_ljy:\")\n",
    "\n",
    "print(unique_dataset)\n",
    "print(\"--------------------------------------\")\n",
    "print(\"Total number of entries:\", metadata_ljy.shape[0])\n",
    "pxpn_n = metadata_ljy[metadata_ljy['dataset'] == 'PXPN'].shape[0]\n",
    "print(\"    PXPN dataset:\", pxpn_n)\n",
    "sym1_n = metadata_ljy[metadata_ljy['dataset'] == 'SYM1'].shape[0]\n",
    "sym2_n = metadata_ljy[metadata_ljy['dataset'] == 'SYM2'].shape[0]\n",
    "print(\"    SYM dataset:\", sym1_n+sym2_n)\n",
    "print(\"--------------------------------------\")\n",
    "unique_ids = metadata_ljy['ID'].unique()\n",
    "print(\"Number of unique IDs in metadata_ljy:\", len(unique_ids))\n",
    "n_panic_2 = metadata_ljy[metadata_ljy['panic'] == 2].shape[0]\n",
    "print(\"Number of panic events (panic=2):\", n_panic_2)\n",
    "\n",
    "display(metadata_ljy.head(5))"
   ]
  },
  {
   "cell_type": "code",
   "execution_count": null,
   "id": "99402307",
   "metadata": {},
   "outputs": [],
   "source": [
    "from library.pandas_utils import aggregate_by_column\n",
    "\n",
    "agg_matrix = [\n",
    "\t('n_entries', 'ID', 'count'),\n",
    "\t('n_dates', 'date', 'nunique'),\n",
    "\t('n_panic_2', 'panic', lambda x: (x == 2).sum())\n",
    "]\n",
    "\n",
    "metadata_ljy_agg = aggregate_by_column(metadata_ljy, 'ID', agg_matrix)\n",
    "display(metadata_ljy_agg.head(5))"
   ]
  },
  {
   "cell_type": "code",
   "execution_count": null,
   "id": "88877b82",
   "metadata": {},
   "outputs": [],
   "source": [
    "def plot_histogram_of_counts(column, title=None, xlabel=None, ylabel=\"Frequency\", bins_step=5):\n",
    "\t\"\"\"\n",
    "\tPlot a histogram of counts for a given pandas Series (column).\n",
    "\tOnly nonzero values are plotted.\n",
    "\t\"\"\"\n",
    "\timport matplotlib.pyplot as plt\n",
    "\n",
    "\tdata = column[column > 0]\n",
    "\tif data.empty:\n",
    "\t\tprint(\"No nonzero values to plot.\")\n",
    "\t\treturn\n",
    "\n",
    "\tmin_val = int(data.min())\n",
    "\tmax_val = int(data.max())\n",
    "\tbins = np.arange(min_val, max_val + 2)  # +2 to include max in bin edges\n",
    "\n",
    "\tplt.figure(figsize=(10, 4))\n",
    "\tplt.hist(data, bins=bins, color='blue', alpha=0.7)\n",
    "\tplt.title(title or f'Histogram of {column.name}')\n",
    "\tplt.xlabel(xlabel or column.name)\n",
    "\tplt.ylabel(ylabel)\n",
    "\tplt.grid(axis='y', alpha=0.75)\n",
    "\tplt.xticks(np.arange(0, max_val + 1, bins_step))\n",
    "\tplt.tight_layout()\n",
    "\tplt.show()"
   ]
  },
  {
   "cell_type": "code",
   "execution_count": null,
   "id": "68554311",
   "metadata": {},
   "outputs": [],
   "source": [
    "print(f\"Number of panic events (panic=2): {n_panic_2}\")\n",
    "plot_histogram_of_counts(metadata_ljy_agg['n_panic_2'], title=\"Histogram of Panic Events per ID\", xlabel=\"Number of Panic Events\")"
   ]
  },
  {
   "cell_type": "code",
   "execution_count": null,
   "id": "e41fbccc",
   "metadata": {},
   "outputs": [],
   "source": [
    "from library.pandas_utils import find_unique_row\n",
    "\n",
    "delta_days = 3\n",
    "\n",
    "panic_ids = metadata_ljy_agg[metadata_ljy_agg['n_panic_2'] > 0]['ID'].unique()\n",
    "print(\"Unique IDs with panic events (panic=2):\", len(panic_ids))\n",
    "print(\"--------------------------------------\")\n",
    "\n",
    "metadata = metadata_ljy.copy()\n",
    "metadata['last_panic_days'] = None\n",
    "metadata['n_prior_data'] = None\n",
    "metadata['event_id'] = None\n",
    "metadata['ref_event_id'] = None\n",
    "\n",
    "for panic_id in panic_ids:\n",
    "\tdf = metadata[metadata['ID'] == panic_id].sort_values(by='date', ascending=True)\n",
    "\tlast_panic_date = None\n",
    "\tfor i, row in df.iterrows():\n",
    "\t\tif row['panic'] == 2:\n",
    "\t\t\tevent_id = row['ID'] + '_' + str(row['date'].date())\n",
    "\t\t\tmetadata.loc[i, 'event_id'] = event_id\n",
    "\t\t\tif last_panic_date is None:\n",
    "\t\t\t\tlast_panic_date = row['date']\n",
    "\t\t\t\tmetadata.loc[i, 'last_panic_days'] = 100  # Set to 200 for the first panic event\n",
    "\t\t\telse:\n",
    "\t\t\t\tdays_diff = (row['date'] - last_panic_date).days\n",
    "\t\t\t\tmetadata.loc[i, 'last_panic_days'] = days_diff\n",
    "\t\t\t\tlast_panic_date = row['date']\n",
    "\t\t\tdate = last_panic_date\n",
    "\t\t\tfor j in range(1, 101):\n",
    "\t\t\t\tdate = date - pd.Timedelta(days=1)\n",
    "\t\t\t\tif date not in df['date'].values:\n",
    "\t\t\t\t\tmetadata.loc[i, 'n_prior_data'] = j - 1\n",
    "\t\t\t\t\tbreak\n",
    "\n",
    "filtered_metadata = metadata[metadata['event_id'].notnull()]\n",
    "print(f\"Number of panic events: {filtered_metadata.shape[0]}\")\n",
    "plot_histogram_of_counts(metadata['last_panic_days'],\n",
    "                         title=\"Histogram of Days Since Last Panic Event (All Data)\", xlabel=\"Days Since Last Panic Event\",\n",
    "                         bins_step=5)\n",
    "filtered_metadata = filtered_metadata[filtered_metadata['last_panic_days'] > delta_days]\n",
    "print(f\"Number of panic events with last_panic_days > {delta_days}:\", filtered_metadata.shape[0])\n",
    "plot_histogram_of_counts(filtered_metadata['last_panic_days'],\n",
    "                         title=\"Histogram of Days Since Last Panic Event (delta_days > 3)\", xlabel=\"Days Since Last Panic Event\",\n",
    "                         bins_step=5)\n",
    "filtered_metadata = filtered_metadata[filtered_metadata['n_prior_data'] >= delta_days]\n",
    "print(f\"Number of panic events with n_prior_data >= {delta_days}:\", filtered_metadata.shape[0])\n",
    "plot_histogram_of_counts(filtered_metadata['last_panic_days'],\n",
    "                         title=\"Histogram of Days Since Last Panic Event (delta_days > 3 & n_prior_data >= 3)\", xlabel=\"Days Since Last Panic Event\",\n",
    "                         bins_step=5)\n",
    "print(\"--------------------------------------\")\n",
    "filtered_ids = filtered_metadata['ID'].unique()\n",
    "print(\"Unique IDs with panic events (last_panic_days > 3 & n_prior_data >= 3):\", len(filtered_ids))\n",
    "print(\"--------------------------------------\")"
   ]
  },
  {
   "cell_type": "code",
   "execution_count": null,
   "id": "3130dc74",
   "metadata": {},
   "outputs": [],
   "source": [
    "filtered_metadata_agg = aggregate_by_column(filtered_metadata, 'ID', agg_matrix)\n",
    "plot_histogram_of_counts(filtered_metadata_agg['n_panic_2'],\n",
    "\t\t\t\t\t\t title=\"Histogram of Panic Events per ID (last_panic_days > 3 & n_prior_data >= 3)\",\n",
    "\t\t\t\t\t\t bins_step=1)"
   ]
  },
  {
   "cell_type": "code",
   "execution_count": null,
   "id": "9fc6c1d1",
   "metadata": {},
   "outputs": [],
   "source": [
    "from library.pandas_utils import find_unique_row"
   ]
  },
  {
   "cell_type": "code",
   "execution_count": null,
   "id": "e47c45e5",
   "metadata": {},
   "outputs": [],
   "source": [
    "unique_panic = metadata_ljy['severity'].unique()\n",
    "print(f\"\\nUnique values in 'panic': {unique_panic}\")"
   ]
  }
 ],
 "metadata": {
  "kernelspec": {
   "display_name": "owlie",
   "language": "python",
   "name": "python3"
  },
  "language_info": {
   "codemirror_mode": {
    "name": "ipython",
    "version": 3
   },
   "file_extension": ".py",
   "mimetype": "text/x-python",
   "name": "python",
   "nbconvert_exporter": "python",
   "pygments_lexer": "ipython3",
   "version": "3.10.16"
  }
 },
 "nbformat": 4,
 "nbformat_minor": 5
}
