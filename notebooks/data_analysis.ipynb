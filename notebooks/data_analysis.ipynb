{
 "cells": [
  {
   "cell_type": "code",
   "execution_count": null,
   "id": "d9df09cb",
   "metadata": {},
   "outputs": [],
   "source": [
    "import pandas as pd"
   ]
  },
  {
   "cell_type": "code",
   "execution_count": null,
   "id": "cd8780ae",
   "metadata": {},
   "outputs": [],
   "source": [
    "METADATA_LJY_PATH = \"../_data/processed_filled_step_sleep_429.csv\""
   ]
  },
  {
   "cell_type": "code",
   "execution_count": null,
   "id": "a279cfc5",
   "metadata": {},
   "outputs": [],
   "source": [
    "metadata_ljy = pd.read_csv(METADATA_LJY_PATH)"
   ]
  },
  {
   "cell_type": "code",
   "execution_count": null,
   "id": "09964c0f",
   "metadata": {},
   "outputs": [],
   "source": [
    "print(f\"Number of rows: {metadata_ljy.shape[0]}\")\n",
    "print(f\"Number of columns: {metadata_ljy.shape[1]}\")\n",
    "display(metadata_ljy.head(5))"
   ]
  },
  {
   "cell_type": "code",
   "execution_count": null,
   "id": "cb262b21",
   "metadata": {},
   "outputs": [],
   "source": [
    "col_dtype_dict = {}\n",
    "for col in metadata_ljy.columns:\n",
    "\tnon_null_values = metadata_ljy[col].dropna()\n",
    "\tunique_types = set(non_null_values.map(type))\n",
    "\tif len(unique_types) > 1:\n",
    "\t\tcol_dtype_dict[col] = 'mutiple'\n",
    "\telif len(unique_types) == 1:\n",
    "\t\tcol_dtype_dict[col] = list(unique_types)[0].__name__\n",
    "\telse:\n",
    "\t\tcol_dtype_dict[col] = 'unknown'\n",
    "\n",
    "unique_dtypes = set(col_dtype_dict.values())\n",
    "\n",
    "for dtype in unique_dtypes:\n",
    "\t# print(f\"Data type: {dtype}\")\n",
    "\tcount = 0\n",
    "\tfor col, col_dtype in col_dtype_dict.items():\n",
    "\t\tif col_dtype == dtype:\n",
    "\t\t\tcount += 1\n",
    "\t\t\t# print(f\" - {col}\")\n",
    "\tprint(f\"Data type: {dtype} [{count}]\")\n",
    "\n",
    "count = 0\n",
    "print('--------------------')\n",
    "for col in col_dtype_dict.keys():\n",
    "    # print the columns in a single line\n",
    "    print(f\"{col}\", end=\", \")\n",
    "    count+= 1\n",
    "    if count % 5 == 0:\n",
    "        print()"
   ]
  },
  {
   "cell_type": "code",
   "execution_count": null,
   "id": "e47c45e5",
   "metadata": {},
   "outputs": [],
   "source": [
    "unique_panic = metadata_ljy['panic'].unique()\n",
    "print(f\"\\nUnique values in 'panic': {unique_panic}\")"
   ]
  },
  {
   "cell_type": "code",
   "execution_count": null,
   "id": "68f5f2b8",
   "metadata": {},
   "outputs": [],
   "source": []
  }
 ],
 "metadata": {
  "kernelspec": {
   "display_name": "test",
   "language": "python",
   "name": "python3"
  },
  "language_info": {
   "codemirror_mode": {
    "name": "ipython",
    "version": 3
   },
   "file_extension": ".py",
   "mimetype": "text/x-python",
   "name": "python",
   "nbconvert_exporter": "python",
   "pygments_lexer": "ipython3",
   "version": "3.10.16"
  }
 },
 "nbformat": 4,
 "nbformat_minor": 5
}
