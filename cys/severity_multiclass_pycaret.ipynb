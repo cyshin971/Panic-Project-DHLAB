{
 "cells": [
  {
   "cell_type": "markdown",
   "id": "28551a76",
   "metadata": {},
   "source": [
    "# Panic Project (DHLAB) - Multiclass Classification PyCaret Model for Panic Severity Prediction"
   ]
  },
  {
   "cell_type": "markdown",
   "id": "6cdc63ef",
   "metadata": {},
   "source": [
    "author:  `@cyshin971`  \n",
    "\n",
    "date:    `2025-06-xx`  \n",
    "\n",
    "version: `0.1`"
   ]
  },
  {
   "cell_type": "code",
   "execution_count": null,
   "id": "24a49b97",
   "metadata": {},
   "outputs": [],
   "source": [
    "version = \"0-1\""
   ]
  },
  {
   "cell_type": "markdown",
   "id": "c7fec94e",
   "metadata": {},
   "source": [
    "# 📚 | Import Libraries "
   ]
  },
  {
   "cell_type": "code",
   "execution_count": null,
   "id": "ca28a530",
   "metadata": {},
   "outputs": [],
   "source": [
    "import config as cfg\n",
    "import logging\n",
    "\n",
    "import os\n",
    "import pandas as pd\n",
    "import numpy as np\n",
    "import matplotlib.pyplot as plt\n",
    "logging.getLogger('matplotlib').setLevel(logging.WARNING)\n",
    "\n",
    "from library.pandas_utils import move_column, remove_columns, create_empty_df, read_csv\n",
    "from library.text_utils import save_as_csv\n",
    "from library.json_utils import save_dict_to_file, load_dict_from_file\n",
    "from library.path_utils import get_file_path\n",
    "\n",
    "from pycaret.classification import *"
   ]
  },
  {
   "cell_type": "markdown",
   "id": "1c7bf1ba",
   "metadata": {},
   "source": [
    "# 📁 | Path Variables "
   ]
  },
  {
   "cell_type": "code",
   "execution_count": null,
   "id": "61873106",
   "metadata": {},
   "outputs": [],
   "source": [
    "DATA_PATH = \"./_data\"\n",
    "TMP_PATH = \"./cys/_tmp\"\n",
    "OUTPUT_PATH = \"./cys/_output\""
   ]
  },
  {
   "cell_type": "markdown",
   "id": "0172b789",
   "metadata": {},
   "source": [
    "# ⚒️ | Preprocessed Data"
   ]
  },
  {
   "cell_type": "code",
   "execution_count": null,
   "id": "d4319fe2",
   "metadata": {},
   "outputs": [],
   "source": [
    "try:\n",
    "\tfeatures_dict = load_dict_from_file(OUTPUT_PATH, 'panic_features_dict')\n",
    "except FileNotFoundError:\n",
    "    raise FileNotFoundError(f\"File not found: {get_file_path(OUTPUT_PATH, 'panic_features_dict')}. Please run data_analysis.ipynb first.\")\n",
    "print(f\"Loaded features dict with {len(features_dict)} keys:\")\n",
    "scraped_data_filename = None\n",
    "for k, v in features_dict.items():\n",
    "    if k == 'scraped_data_filename':\n",
    "        print(f\"  {k}: {v}.csv\")\n",
    "        scraped_data_filename = v\n",
    "    elif k == 'preproc_version':\n",
    "        preproc_version = v\n",
    "    elif k == 'analysis_version':\n",
    "        analysis_version = v\n",
    "    else:\n",
    "        print(f\"  {k}: {len(v)}\")\n",
    "\n",
    "if scraped_data_filename is None:\n",
    "\traise ValueError(\"scraped_data_filename not found in features_dict\")\n",
    "\n",
    "pre_data = read_csv(get_file_path(OUTPUT_PATH, f'panic_pre_data_filled_{analysis_version}({scraped_data_filename}).csv'))\n",
    "display(pre_data.head(5))\n",
    "metadata = read_csv(get_file_path(OUTPUT_PATH, f'panic_metadata_{preproc_version}({scraped_data_filename}).csv'))\n",
    "display(metadata.head(5))\n",
    "demography_data = read_csv(get_file_path(OUTPUT_PATH, f'panic_demography_data_{preproc_version}({scraped_data_filename}).csv'))\n",
    "display(demography_data.head(5))\n",
    "patient_data = read_csv(get_file_path(OUTPUT_PATH, f'panic_patient_analysis_{analysis_version}({scraped_data_filename}).csv'))\n",
    "display(patient_data.head(5))"
   ]
  },
  {
   "cell_type": "markdown",
   "id": "06f554d4",
   "metadata": {},
   "source": [
    "# "
   ]
  },
  {
   "cell_type": "markdown",
   "id": "4d373b39",
   "metadata": {},
   "source": [
    "# 🔄️ | Data Processing"
   ]
  },
  {
   "cell_type": "code",
   "execution_count": null,
   "id": "852adcaa",
   "metadata": {},
   "outputs": [],
   "source": [
    "days_before_panic_param = 3\n",
    "\n",
    "filtered_panic_metadata = metadata[metadata['panic_label'] == 1].copy()\n",
    "print(f\"Found {len(filtered_panic_metadata)} entries with panic label.\")\n",
    "filtered_panic_metadata_entry_ids = filtered_panic_metadata[filtered_panic_metadata['valid_entry_3'] == 1]['entry_id'].unique()\n",
    "print(f\"Found {len(filtered_panic_metadata_entry_ids)} entries with panic label and at least {days_before_panic_param} days of prior data.\")\n",
    "filtered_ref_metadata = metadata[metadata['ref_event_id'].isin(filtered_panic_metadata_entry_ids)].copy()\n",
    "print(f\"Filtered metadata contains {len(filtered_ref_metadata)} entries with panic label and at least {days_before_panic_param} days of prior data.\")\n",
    "unique_dbp = filtered_ref_metadata['dbp'].unique()\n",
    "print(f\"Unique DBP values in filtered metadata: {len(unique_dbp)}\")\n",
    "# filtered_metadata = metadata[metadata['ref_event_id'].isin(filtered_data_ids)]\n",
    "\n",
    "# print(f\"Filtered data contains {len(filtered_data)} entries with panic label and valid entry {days_before_panic_param} days before panic event.\")\n",
    "# print(f\"Filtered data contains {len(filtered_data_ids)} unique ref_event_ids.\")\n",
    "# display(filtered_data.head(5))"
   ]
  },
  {
   "cell_type": "markdown",
   "id": "990d3446",
   "metadata": {},
   "source": [
    "# 🔪 | Data Split"
   ]
  },
  {
   "cell_type": "code",
   "execution_count": null,
   "id": "a99cdd16",
   "metadata": {},
   "outputs": [],
   "source": []
  },
  {
   "cell_type": "markdown",
   "id": "0b01af17",
   "metadata": {},
   "source": [
    "# 🤖 | Modeling"
   ]
  },
  {
   "cell_type": "code",
   "execution_count": null,
   "id": "4744a998",
   "metadata": {},
   "outputs": [],
   "source": [
    "# target_col = \"severity\"\n",
    "# # filter out rows with NaN in the target column\n",
    "# data = raw_data[raw_data[target_col].notna()]\n",
    "# print(\"Number of data points:\", len(data))"
   ]
  },
  {
   "cell_type": "code",
   "execution_count": null,
   "id": "249402fb",
   "metadata": {},
   "outputs": [],
   "source": []
  },
  {
   "cell_type": "markdown",
   "id": "a6ef324a",
   "metadata": {},
   "source": [
    "# 🚂 | Training"
   ]
  },
  {
   "cell_type": "code",
   "execution_count": null,
   "id": "49c65797",
   "metadata": {},
   "outputs": [],
   "source": [
    "# s = setup(data, target = target_col)"
   ]
  },
  {
   "cell_type": "markdown",
   "id": "833cc8b6",
   "metadata": {},
   "source": [
    "# 📋 | Results"
   ]
  },
  {
   "cell_type": "code",
   "execution_count": null,
   "id": "38e5e1b9",
   "metadata": {},
   "outputs": [],
   "source": [
    "# best_model = compare_models()"
   ]
  }
 ],
 "metadata": {
  "kernelspec": {
   "display_name": "dhlab-panic",
   "language": "python",
   "name": "python3"
  },
  "language_info": {
   "codemirror_mode": {
    "name": "ipython",
    "version": 3
   },
   "file_extension": ".py",
   "mimetype": "text/x-python",
   "name": "python",
   "nbconvert_exporter": "python",
   "pygments_lexer": "ipython3",
   "version": "3.10.16"
  }
 },
 "nbformat": 4,
 "nbformat_minor": 5
}
