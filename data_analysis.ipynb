{
 "cells": [
  {
   "cell_type": "markdown",
   "id": "72f4fd25",
   "metadata": {},
   "source": [
    "# Panic Project (DHLAB) - Data Analysis"
   ]
  },
  {
   "cell_type": "markdown",
   "id": "c5634a08",
   "metadata": {},
   "source": [
    "author:  `@cyshin971`  \n",
    "\n",
    "date:    `2025-07-xx`  \n",
    "\n",
    "Instructions:\n",
    "- Run `data_processing.ipynb`\n",
    "- Output can be found in `./output/{scraped_data_filname}/analysis`\n",
    "\n",
    "version: `3.0`\n",
    "\n",
    "> version `1.1`: preprocessing separated to `data_preprocessing.ipynb` (version `1.0`)  \n",
    "> version `2.0`: Updated to consensus on progress meeting `20250619`  \n",
    "> version `3.0`: Release Version"
   ]
  },
  {
   "cell_type": "code",
   "execution_count": 1,
   "id": "76af6c12",
   "metadata": {},
   "outputs": [],
   "source": [
    "version = '3-0'"
   ]
  },
  {
   "cell_type": "markdown",
   "id": "b42654e1",
   "metadata": {},
   "source": [
    "# 📚 | Import Libraries "
   ]
  },
  {
   "cell_type": "markdown",
   "id": "bf941b53",
   "metadata": {},
   "source": [
    "- `python` (`3.10`)\n",
    "- `pandas`  \n",
    "- `numpy`\n",
    "- `json`\n",
    "- `matplotlib`"
   ]
  },
  {
   "cell_type": "code",
   "execution_count": 2,
   "id": "d9df09cb",
   "metadata": {},
   "outputs": [],
   "source": [
    "import logging\n",
    "\n",
    "import matplotlib.pyplot as plt\n",
    "logging.getLogger('matplotlib').setLevel(logging.WARNING)\n",
    "\n",
    "from library.pandas_utils import move_column, aggregate_by_column, create_empty_df, read_csv\n",
    "from library.text_utils import save_as_csv\n",
    "from library.json_utils import save_dict_to_file, load_dict_from_file\n",
    "from library.path_utils import get_file_path"
   ]
  },
  {
   "cell_type": "markdown",
   "id": "229c430a",
   "metadata": {},
   "source": [
    "# ⚙️ | Settings"
   ]
  },
  {
   "cell_type": "code",
   "execution_count": 3,
   "id": "65fa3f0c",
   "metadata": {},
   "outputs": [],
   "source": [
    "manual_scraped_data_filename = None # Keep as None if you don't want to manually specify a file"
   ]
  },
  {
   "cell_type": "markdown",
   "id": "8aa403ca",
   "metadata": {},
   "source": [
    "# 📁 | Path Variables "
   ]
  },
  {
   "cell_type": "code",
   "execution_count": 4,
   "id": "bb54241e",
   "metadata": {},
   "outputs": [
    {
     "name": "stderr",
     "output_type": "stream",
     "text": [
      "DEBUG - (json_utils.py) load_dict_from_file: Dictionary loaded successfully from C:\\Users\\cyshi\\OneDrive\\Documents\\GitHub\\Panic-Project-CYS\\_output\\panic_features_dict.json\n",
      "DEBUG - (json_utils.py) save_dict_to_file: Dictionary saved successfully to C:\\Users\\cyshi\\OneDrive\\Documents\\GitHub\\Panic-Project-CYS\\_output\\panic_features_dict.json\n"
     ]
    },
    {
     "name": "stdout",
     "output_type": "stream",
     "text": [
      "Loaded features dict with 18 keys:\n",
      "  scraped_data_filename: final_result_20250626_360_no_ffill.csv\n",
      "  preproc_version: 3-0\n",
      "  demography: ['gender', 'age', 'marriage', 'job', 'smkHx', 'drinkHx', 'suicideHx', 'suicide_need']\n",
      "  dailylog: ['severity', 'exercise', 'alcohol', 'coffee', 'menstruation', 'smoking', 'positive_feeling', 'negative_feeling', 'positive_E', 'negative_E', 'anxiety', 'annoying']\n",
      "  mood: ['positive_feeling', 'negative_feeling', 'positive_E', 'negative_E', 'anxiety', 'annoying']\n",
      "  dailylog_life: ['exercise', 'alcohol', 'coffee', 'menstruation', 'smoking']\n",
      "  lifelog: ['HR_var', 'HR_max', 'HR_mean', 'HR_hvar_mean', 'HR_acrophase', 'HR_amplitude', 'HR_mesor', 'HR_acrophase_difference', 'HR_acrophase_difference_2d', 'HR_amplitude_difference', 'HR_amplitude_difference_2d', 'HR_mesor_difference', 'HR_mesor_difference_2d', 'bandpower(0.001-0.0005Hz)', 'bandpower(0.0005-0.0001Hz)', 'bandpower(0.0001-0.00005Hz)', 'bandpower(0.00005-0.00001Hz)', 'steps', 'SLT1', 'SLT2', 'SLT3', 'SLT4', 'SLT5', 'SLT6', 'total_sleep', 'steps_maximum', 'steps_mean', 'step_hvar_mean', 'step_delta', 'step_max_delta', 'step_mean_delta', 'step_hvar_mean_delta', 'step_delta2', 'step_max_delta2', 'step_mean_delta2', 'step_hvar_mean_delta2', 'steps_variance']\n",
      "  lifelog_HR: ['HR_var', 'HR_max', 'HR_mean', 'HR_hvar_mean', 'HR_acrophase', 'HR_amplitude', 'HR_mesor', 'HR_acrophase_difference', 'HR_acrophase_difference_2d', 'HR_amplitude_difference', 'HR_amplitude_difference_2d', 'HR_mesor_difference', 'HR_mesor_difference_2d', 'bandpower(0.001-0.0005Hz)', 'bandpower(0.0005-0.0001Hz)', 'bandpower(0.0001-0.00005Hz)', 'bandpower(0.00005-0.00001Hz)']\n",
      "  lifelog_steps: ['steps', 'steps_maximum', 'steps_mean', 'step_hvar_mean', 'step_delta', 'step_max_delta', 'step_mean_delta', 'step_hvar_mean_delta', 'step_delta2', 'step_max_delta2', 'step_mean_delta2', 'step_hvar_mean_delta2', 'steps_variance']\n",
      "  lifelog_sleep: ['SLT1', 'SLT2', 'SLT3', 'SLT4', 'SLT5', 'SLT6', 'total_sleep']\n",
      "  questionnaire: ['PHQ_9', 'STAI_X2', 'CSM', 'CTQ_1', 'CTQ_2', 'CTQ_3', 'CTQ_4', 'CTQ_5', 'KRQ', 'MDQ', 'ACQ', 'APPQ_1', 'APPQ_2', 'APPQ_3', 'BSQ', 'GAD_7', 'BRIAN']\n",
      "  excluded: ['SPAQ_1', 'SPAQ_2', 'BFNE', 'CES_D', 'KOSSSF', 'SADS', 'STAI_X1', 'medication_in_month', 'Unnamed: 0']\n",
      "  id: ['entry_id', 'ID', 'date', 'dataset']\n",
      "  label: ['panic', 'severity', 'panic_label']\n",
      "  metadata: ['dailylog_data', 'lifelog_data', 'questionnaire_data', 'dtype_n', 'ref_event_id', 'n_prior_data']\n",
      "  imputation_version: 3-0\n",
      "  use_growing_avg: True\n",
      "  null_default_zero: True\n"
     ]
    }
   ],
   "source": [
    "TMP_PATH = \"./_tmp\"\n",
    "OUT_PATH = \"./_output\"\n",
    "\n",
    "try:\n",
    "\tfeatures_dict = load_dict_from_file(OUT_PATH, 'panic_features_dict')\n",
    "except FileNotFoundError:\n",
    "    raise FileNotFoundError(f\"File not found: {get_file_path(OUT_PATH, 'panic_features_dict')}. Please run data_preprocessing.ipynb first.\")\n",
    "print(f\"Loaded features dict with {len(features_dict)} keys:\")\n",
    "scraped_data_filename = None\n",
    "for k, v in features_dict.items():\n",
    "    if k == 'scraped_data_filename':\n",
    "        print(f\"  {k}: {v}.csv\")\n",
    "        scraped_data_filename = v\n",
    "    elif k == 'preproc_version':\n",
    "        preproc_version = v\n",
    "        print(f\"  {k}: {v}\")\n",
    "    else:\n",
    "        print(f\"  {k}: {v}\")\n",
    "\n",
    "if scraped_data_filename is None:\n",
    "\traise ValueError(\"scraped_data_filename not found in features_dict\")\n",
    "if manual_scraped_data_filename is not None:\n",
    "    logging.warning(f\"Using manually specified scraped_data_filename: {manual_scraped_data_filename}. If this is not intended, please set it to None.\")\n",
    "    scraped_data_filename = manual_scraped_data_filename\n",
    "\n",
    "features_dict['analysis_version'] = version\n",
    "save_dict_to_file(features_dict, OUT_PATH, 'panic_features_dict')\n",
    "\n",
    "PREPROC_PATH = f\"{OUT_PATH}/{scraped_data_filename}/preprocessed\"\n",
    "OUTPUT_PATH = f\"{OUT_PATH}/{scraped_data_filename}/analysis\""
   ]
  },
  {
   "cell_type": "markdown",
   "id": "6024277b",
   "metadata": {},
   "source": [
    "# ⚒️ | Preprocessed Data"
   ]
  },
  {
   "cell_type": "markdown",
   "id": "9d5b1f06",
   "metadata": {},
   "source": [
    "## Load Preprocessed Data"
   ]
  },
  {
   "cell_type": "code",
   "execution_count": 5,
   "id": "6d5a6ff6",
   "metadata": {},
   "outputs": [
    {
     "data": {
      "text/html": [
       "<div>\n",
       "<style scoped>\n",
       "    .dataframe tbody tr th:only-of-type {\n",
       "        vertical-align: middle;\n",
       "    }\n",
       "\n",
       "    .dataframe tbody tr th {\n",
       "        vertical-align: top;\n",
       "    }\n",
       "\n",
       "    .dataframe thead th {\n",
       "        text-align: right;\n",
       "    }\n",
       "</style>\n",
       "<table border=\"1\" class=\"dataframe\">\n",
       "  <thead>\n",
       "    <tr style=\"text-align: right;\">\n",
       "      <th></th>\n",
       "      <th>entry_id</th>\n",
       "      <th>dataset</th>\n",
       "      <th>ID</th>\n",
       "      <th>date</th>\n",
       "      <th>PHQ_9</th>\n",
       "      <th>STAI_X2</th>\n",
       "      <th>CSM</th>\n",
       "      <th>CTQ_1</th>\n",
       "      <th>CTQ_2</th>\n",
       "      <th>CTQ_3</th>\n",
       "      <th>...</th>\n",
       "      <th>SLT1</th>\n",
       "      <th>SLT2</th>\n",
       "      <th>SLT3</th>\n",
       "      <th>SLT4</th>\n",
       "      <th>SLT5</th>\n",
       "      <th>SLT6</th>\n",
       "      <th>total_sleep</th>\n",
       "      <th>panic</th>\n",
       "      <th>severity</th>\n",
       "      <th>panic_label</th>\n",
       "    </tr>\n",
       "  </thead>\n",
       "  <tbody>\n",
       "    <tr>\n",
       "      <th>0</th>\n",
       "      <td>PXPN_10006_2024-11-04</td>\n",
       "      <td>PXPN</td>\n",
       "      <td>PXPN_10006</td>\n",
       "      <td>2024-11-04</td>\n",
       "      <td>0.0</td>\n",
       "      <td>32.0</td>\n",
       "      <td>31.0</td>\n",
       "      <td>11.0</td>\n",
       "      <td>13.0</td>\n",
       "      <td>17.0</td>\n",
       "      <td>...</td>\n",
       "      <td>NaN</td>\n",
       "      <td>NaN</td>\n",
       "      <td>NaN</td>\n",
       "      <td>NaN</td>\n",
       "      <td>NaN</td>\n",
       "      <td>NaN</td>\n",
       "      <td>NaN</td>\n",
       "      <td>0.0</td>\n",
       "      <td>NaN</td>\n",
       "      <td>0</td>\n",
       "    </tr>\n",
       "    <tr>\n",
       "      <th>1</th>\n",
       "      <td>PXPN_10006_2024-11-05</td>\n",
       "      <td>PXPN</td>\n",
       "      <td>PXPN_10006</td>\n",
       "      <td>2024-11-05</td>\n",
       "      <td>NaN</td>\n",
       "      <td>NaN</td>\n",
       "      <td>NaN</td>\n",
       "      <td>NaN</td>\n",
       "      <td>NaN</td>\n",
       "      <td>NaN</td>\n",
       "      <td>...</td>\n",
       "      <td>0.0</td>\n",
       "      <td>4.47</td>\n",
       "      <td>3.62</td>\n",
       "      <td>4.67</td>\n",
       "      <td>0.65</td>\n",
       "      <td>1.85</td>\n",
       "      <td>15.26</td>\n",
       "      <td>0.0</td>\n",
       "      <td>NaN</td>\n",
       "      <td>0</td>\n",
       "    </tr>\n",
       "  </tbody>\n",
       "</table>\n",
       "<p>2 rows × 72 columns</p>\n",
       "</div>"
      ],
      "text/plain": [
       "                entry_id dataset          ID        date  PHQ_9  STAI_X2  \\\n",
       "0  PXPN_10006_2024-11-04    PXPN  PXPN_10006  2024-11-04    0.0     32.0   \n",
       "1  PXPN_10006_2024-11-05    PXPN  PXPN_10006  2024-11-05    NaN      NaN   \n",
       "\n",
       "    CSM  CTQ_1  CTQ_2  CTQ_3  ...  SLT1  SLT2  SLT3  SLT4  SLT5  SLT6  \\\n",
       "0  31.0   11.0   13.0   17.0  ...   NaN   NaN   NaN   NaN   NaN   NaN   \n",
       "1   NaN    NaN    NaN    NaN  ...   0.0  4.47  3.62  4.67  0.65  1.85   \n",
       "\n",
       "   total_sleep  panic  severity  panic_label  \n",
       "0          NaN    0.0       NaN            0  \n",
       "1        15.26    0.0       NaN            0  \n",
       "\n",
       "[2 rows x 72 columns]"
      ]
     },
     "metadata": {},
     "output_type": "display_data"
    },
    {
     "data": {
      "text/html": [
       "<div>\n",
       "<style scoped>\n",
       "    .dataframe tbody tr th:only-of-type {\n",
       "        vertical-align: middle;\n",
       "    }\n",
       "\n",
       "    .dataframe tbody tr th {\n",
       "        vertical-align: top;\n",
       "    }\n",
       "\n",
       "    .dataframe thead th {\n",
       "        text-align: right;\n",
       "    }\n",
       "</style>\n",
       "<table border=\"1\" class=\"dataframe\">\n",
       "  <thead>\n",
       "    <tr style=\"text-align: right;\">\n",
       "      <th></th>\n",
       "      <th>entry_id</th>\n",
       "      <th>ID</th>\n",
       "      <th>date</th>\n",
       "      <th>dataset</th>\n",
       "      <th>dailylog_data</th>\n",
       "      <th>lifelog_data</th>\n",
       "      <th>questionnaire_data</th>\n",
       "      <th>dtype_n</th>\n",
       "      <th>panic</th>\n",
       "      <th>n_prior_data</th>\n",
       "      <th>dbp</th>\n",
       "      <th>valid_entry_3</th>\n",
       "      <th>valid_entry_2</th>\n",
       "      <th>valid_entry_1</th>\n",
       "      <th>ref_event_id</th>\n",
       "      <th>panic_label</th>\n",
       "      <th>severity</th>\n",
       "    </tr>\n",
       "  </thead>\n",
       "  <tbody>\n",
       "    <tr>\n",
       "      <th>0</th>\n",
       "      <td>SYM2-1-96_2021-08-04</td>\n",
       "      <td>SYM2-1-96</td>\n",
       "      <td>2021-08-04</td>\n",
       "      <td>SYM2</td>\n",
       "      <td>0</td>\n",
       "      <td>1</td>\n",
       "      <td>0</td>\n",
       "      <td>1</td>\n",
       "      <td>0.0</td>\n",
       "      <td>2</td>\n",
       "      <td>NaN</td>\n",
       "      <td>0</td>\n",
       "      <td>1</td>\n",
       "      <td>1</td>\n",
       "      <td>NaN</td>\n",
       "      <td>0</td>\n",
       "      <td>NaN</td>\n",
       "    </tr>\n",
       "    <tr>\n",
       "      <th>1</th>\n",
       "      <td>SYM2-1-96_2021-08-03</td>\n",
       "      <td>SYM2-1-96</td>\n",
       "      <td>2021-08-03</td>\n",
       "      <td>SYM2</td>\n",
       "      <td>0</td>\n",
       "      <td>1</td>\n",
       "      <td>0</td>\n",
       "      <td>1</td>\n",
       "      <td>0.0</td>\n",
       "      <td>1</td>\n",
       "      <td>NaN</td>\n",
       "      <td>0</td>\n",
       "      <td>0</td>\n",
       "      <td>1</td>\n",
       "      <td>NaN</td>\n",
       "      <td>0</td>\n",
       "      <td>NaN</td>\n",
       "    </tr>\n",
       "  </tbody>\n",
       "</table>\n",
       "</div>"
      ],
      "text/plain": [
       "               entry_id         ID        date dataset  dailylog_data  \\\n",
       "0  SYM2-1-96_2021-08-04  SYM2-1-96  2021-08-04    SYM2              0   \n",
       "1  SYM2-1-96_2021-08-03  SYM2-1-96  2021-08-03    SYM2              0   \n",
       "\n",
       "   lifelog_data  questionnaire_data  dtype_n  panic  n_prior_data  dbp  \\\n",
       "0             1                   0        1    0.0             2  NaN   \n",
       "1             1                   0        1    0.0             1  NaN   \n",
       "\n",
       "   valid_entry_3  valid_entry_2  valid_entry_1 ref_event_id  panic_label  \\\n",
       "0              0              1              1          NaN            0   \n",
       "1              0              0              1          NaN            0   \n",
       "\n",
       "   severity  \n",
       "0       NaN  \n",
       "1       NaN  "
      ]
     },
     "metadata": {},
     "output_type": "display_data"
    },
    {
     "data": {
      "text/html": [
       "<div>\n",
       "<style scoped>\n",
       "    .dataframe tbody tr th:only-of-type {\n",
       "        vertical-align: middle;\n",
       "    }\n",
       "\n",
       "    .dataframe tbody tr th {\n",
       "        vertical-align: top;\n",
       "    }\n",
       "\n",
       "    .dataframe thead th {\n",
       "        text-align: right;\n",
       "    }\n",
       "</style>\n",
       "<table border=\"1\" class=\"dataframe\">\n",
       "  <thead>\n",
       "    <tr style=\"text-align: right;\">\n",
       "      <th></th>\n",
       "      <th>ID</th>\n",
       "      <th>gender</th>\n",
       "      <th>age</th>\n",
       "      <th>marriage</th>\n",
       "      <th>job</th>\n",
       "      <th>smkHx</th>\n",
       "      <th>drinkHx</th>\n",
       "      <th>suicideHx</th>\n",
       "      <th>suicide_need</th>\n",
       "    </tr>\n",
       "  </thead>\n",
       "  <tbody>\n",
       "    <tr>\n",
       "      <th>0</th>\n",
       "      <td>PXPN_10006</td>\n",
       "      <td>0</td>\n",
       "      <td>32.0</td>\n",
       "      <td>0.0</td>\n",
       "      <td>1.0</td>\n",
       "      <td>1.0</td>\n",
       "      <td>1.0</td>\n",
       "      <td>0.0</td>\n",
       "      <td>0.0</td>\n",
       "    </tr>\n",
       "    <tr>\n",
       "      <th>1</th>\n",
       "      <td>PXPN_10007</td>\n",
       "      <td>1</td>\n",
       "      <td>38.0</td>\n",
       "      <td>1.0</td>\n",
       "      <td>1.0</td>\n",
       "      <td>0.0</td>\n",
       "      <td>0.0</td>\n",
       "      <td>0.0</td>\n",
       "      <td>0.0</td>\n",
       "    </tr>\n",
       "  </tbody>\n",
       "</table>\n",
       "</div>"
      ],
      "text/plain": [
       "           ID  gender   age  marriage  job  smkHx  drinkHx  suicideHx  \\\n",
       "0  PXPN_10006       0  32.0       0.0  1.0    1.0      1.0        0.0   \n",
       "1  PXPN_10007       1  38.0       1.0  1.0    0.0      0.0        0.0   \n",
       "\n",
       "   suicide_need  \n",
       "0           0.0  \n",
       "1           0.0  "
      ]
     },
     "metadata": {},
     "output_type": "display_data"
    }
   ],
   "source": [
    "pre_data = read_csv(get_file_path(PREPROC_PATH, f'panic_pre_data_{preproc_version}({scraped_data_filename}).csv'))\n",
    "display(pre_data.head(2))\n",
    "metadata = read_csv(get_file_path(PREPROC_PATH, f'panic_metadata_{preproc_version}({scraped_data_filename}).csv'))\n",
    "display(metadata.head(2))\n",
    "demography_data = read_csv(get_file_path(PREPROC_PATH, f'panic_demography_data_{preproc_version}({scraped_data_filename}).csv'))\n",
    "display(demography_data.head(2))"
   ]
  },
  {
   "cell_type": "markdown",
   "id": "7ef5553a",
   "metadata": {},
   "source": [
    "# 🔍 | Data Analysis"
   ]
  },
  {
   "cell_type": "markdown",
   "id": "041c9af5",
   "metadata": {},
   "source": [
    "## 🕳️ | Null Value Analysis\n",
    "\n",
    "Produces csv file of the percentage of the null values for each feature in Daily Log, and Life Log"
   ]
  },
  {
   "cell_type": "code",
   "execution_count": 6,
   "id": "e9f625e1",
   "metadata": {},
   "outputs": [
    {
     "name": "stderr",
     "output_type": "stream",
     "text": [
      "DEBUG - (path_utils.py) make_dir: Created directory: C:\\Users\\cyshi\\OneDrive\\Documents\\GitHub\\Panic-Project-CYS\\_output\\final_result_20250626_360_no_ffill\\analysis\n",
      "DEBUG - (text_utils.py) save_as_csv: Saved panic_null_value_analysis_3-0(final_result_20250626_360_no_ffill).csv to C:\\Users\\cyshi\\OneDrive\\Documents\\GitHub\\Panic-Project-CYS\\_output\\final_result_20250626_360_no_ffill\\analysis\n"
     ]
    },
    {
     "data": {
      "text/html": [
       "<div>\n",
       "<style scoped>\n",
       "    .dataframe tbody tr th:only-of-type {\n",
       "        vertical-align: middle;\n",
       "    }\n",
       "\n",
       "    .dataframe tbody tr th {\n",
       "        vertical-align: top;\n",
       "    }\n",
       "\n",
       "    .dataframe thead th {\n",
       "        text-align: right;\n",
       "    }\n",
       "</style>\n",
       "<table border=\"1\" class=\"dataframe\">\n",
       "  <thead>\n",
       "    <tr style=\"text-align: right;\">\n",
       "      <th></th>\n",
       "      <th>feature</th>\n",
       "      <th>data_group</th>\n",
       "      <th>null%</th>\n",
       "      <th>null_count</th>\n",
       "      <th>total_count</th>\n",
       "    </tr>\n",
       "  </thead>\n",
       "  <tbody>\n",
       "    <tr>\n",
       "      <th>0</th>\n",
       "      <td>HR_var</td>\n",
       "      <td>lifelog_HR</td>\n",
       "      <td>45.86</td>\n",
       "      <td>8888</td>\n",
       "      <td>19379</td>\n",
       "    </tr>\n",
       "    <tr>\n",
       "      <th>1</th>\n",
       "      <td>HR_max</td>\n",
       "      <td>lifelog_HR</td>\n",
       "      <td>45.86</td>\n",
       "      <td>8888</td>\n",
       "      <td>19379</td>\n",
       "    </tr>\n",
       "    <tr>\n",
       "      <th>2</th>\n",
       "      <td>HR_mean</td>\n",
       "      <td>lifelog_HR</td>\n",
       "      <td>45.86</td>\n",
       "      <td>8888</td>\n",
       "      <td>19379</td>\n",
       "    </tr>\n",
       "    <tr>\n",
       "      <th>3</th>\n",
       "      <td>HR_hvar_mean</td>\n",
       "      <td>lifelog_HR</td>\n",
       "      <td>45.86</td>\n",
       "      <td>8888</td>\n",
       "      <td>19379</td>\n",
       "    </tr>\n",
       "    <tr>\n",
       "      <th>4</th>\n",
       "      <td>HR_acrophase</td>\n",
       "      <td>lifelog_HR</td>\n",
       "      <td>51.66</td>\n",
       "      <td>10011</td>\n",
       "      <td>19379</td>\n",
       "    </tr>\n",
       "  </tbody>\n",
       "</table>\n",
       "</div>"
      ],
      "text/plain": [
       "        feature  data_group  null%  null_count  total_count\n",
       "0        HR_var  lifelog_HR  45.86        8888        19379\n",
       "1        HR_max  lifelog_HR  45.86        8888        19379\n",
       "2       HR_mean  lifelog_HR  45.86        8888        19379\n",
       "3  HR_hvar_mean  lifelog_HR  45.86        8888        19379\n",
       "4  HR_acrophase  lifelog_HR  51.66       10011        19379"
      ]
     },
     "metadata": {},
     "output_type": "display_data"
    }
   ],
   "source": [
    "null_value_analysis = create_empty_df()\n",
    "null_value_analysis = pre_data[features_dict['lifelog']+features_dict['dailylog']].isnull().sum().reset_index()\n",
    "null_value_analysis.rename(columns={0: 'null_count'}, inplace=True)\n",
    "null_value_analysis.rename(columns={'index': 'feature'}, inplace=True)\n",
    "\n",
    "# add a column for the data group using the feqtures_dict\n",
    "null_value_analysis['data_group'] = null_value_analysis['feature'].apply(\n",
    "    lambda x: 'mood' if x in features_dict['mood'] else\n",
    "\t\t\t  'dailylog_life' if x in features_dict['dailylog_life'] else\n",
    "\t\t\t  'lifelog_HR' if x in features_dict['lifelog_HR'] else\n",
    "\t\t\t  'lifelog_steps' if x in features_dict['lifelog_steps'] else\n",
    "\t\t\t  'lifelog_sleep' if x in features_dict['lifelog_sleep'] else\n",
    "\t\t\t  'other'\n",
    ")\n",
    "\n",
    "# add column for total count\n",
    "null_value_analysis['total_count'] = len(pre_data)\n",
    "# find the existing percentage\n",
    "null_value_analysis['null%'] = (null_value_analysis['null_count'] / null_value_analysis['total_count']) * 100\n",
    "\n",
    "move_column(null_value_analysis, 'data_group', 1)\n",
    "move_column(null_value_analysis, 'null%', 2)\n",
    "\n",
    "save_as_csv(null_value_analysis, OUTPUT_PATH, f\"panic_null_value_analysis_{version}({scraped_data_filename})\")\n",
    "\n",
    "display(null_value_analysis.head(5))"
   ]
  },
  {
   "cell_type": "code",
   "execution_count": 7,
   "id": "a1615ddd",
   "metadata": {},
   "outputs": [
    {
     "data": {
      "text/plain": [
       "<Figure size 500x1000 with 0 Axes>"
      ]
     },
     "metadata": {},
     "output_type": "display_data"
    },
    {
     "data": {
      "image/png": "[encoded data removed]",
      "text/plain": [
       "<Figure size 640x480 with 1 Axes>"
      ]
     },
     "metadata": {},
     "output_type": "display_data"
    }
   ],
   "source": [
    "plt.figure(figsize=(5, 10))  # Adjusted to make it thinner horizontally and longer vertically\n",
    "colors = ['skyblue'] * len(null_value_analysis)\n",
    "ax = null_value_analysis.sort_values('null%', ascending=True).plot(\n",
    "\tkind='barh', x='feature', y='null%', color=colors, legend=False, width=0.5  # Reduced bar width to increase gaps\n",
    ")\n",
    "plt.title(\"Percentage of Null Values by Feature\")\n",
    "plt.xlabel(\"Percentage of Null Values (%)\")\n",
    "plt.xlim(0, 100)  # Set the x-axis limit to 0-100\n",
    "# get rid of the right and top spines\n",
    "ax.spines['right'].set_visible(False)\n",
    "ax.spines['top'].set_visible(False)\n",
    "\n",
    "# Adjust y-axis labels for better visibility\n",
    "ax.set_yticklabels(ax.get_yticklabels(), fontsize=5, rotation=0, ha='right')\n",
    "\n",
    "# Add labels with values to the right of each bar\n",
    "for p in ax.patches:\n",
    "\tvalue = f\"{p.get_width():.2f}%\"\n",
    "\tax.annotate(value,\n",
    "\t\t\t\t(p.get_width() + 1, p.get_y() + p.get_height() / 2),\n",
    "\t\t\t\tha='left', va='center', fontsize=5, color='black', xytext=(0, 0),\n",
    "\t\t\t\ttextcoords='offset points')\n",
    "\n",
    "plt.show()"
   ]
  },
  {
   "cell_type": "markdown",
   "id": "2d403f88",
   "metadata": {},
   "source": [
    "## 🤯 | Patient-level Analysis\n",
    "\n",
    "**Description**\n",
    "- `n_entries`: Number of entries per patient\n",
    "- `n_valid_3_entries`: Number of valid (3 prior consecutive days of data) entries per patient\n",
    "- `n_valid_2_entries`: Number of valid (2 prior consecutive days of data) entries per patient\n",
    "- `n_valid_1_entries`: Number of valid (1 prior consecutive days of data) entries per patient\n",
    "- `n_panic`: Number of panic events per patient\n",
    "- `max_severity`: Maximum panic severity experienced by patient\n",
    "- `min_severity`: Minimum panic severity experienced by patient\n",
    "- `mean_severity`: Average panic severity experienced by patient\n",
    "- `n_dailylog`: Number of daily log entries per patient\n",
    "- `n_lifelog`: Number of life log entries per patient\n",
    "- `n_questionnaire`: Number of questionnaire entries per patient\n",
    "- `sum_dtype`: Number of data (by group) per patient\n",
    "- `mean_dtype`: Average number of data types per entry per patient"
   ]
  },
  {
   "cell_type": "code",
   "execution_count": 8,
   "id": "e2b24e12",
   "metadata": {},
   "outputs": [
    {
     "data": {
      "text/html": [
       "<div>\n",
       "<style scoped>\n",
       "    .dataframe tbody tr th:only-of-type {\n",
       "        vertical-align: middle;\n",
       "    }\n",
       "\n",
       "    .dataframe tbody tr th {\n",
       "        vertical-align: top;\n",
       "    }\n",
       "\n",
       "    .dataframe thead th {\n",
       "        text-align: right;\n",
       "    }\n",
       "</style>\n",
       "<table border=\"1\" class=\"dataframe\">\n",
       "  <thead>\n",
       "    <tr style=\"text-align: right;\">\n",
       "      <th></th>\n",
       "      <th>ID</th>\n",
       "      <th>n_entries</th>\n",
       "      <th>n_valid_3_entries</th>\n",
       "      <th>n_valid_2_entries</th>\n",
       "      <th>n_valid_1_entries</th>\n",
       "      <th>n_panic</th>\n",
       "      <th>max_severity</th>\n",
       "      <th>min_severity</th>\n",
       "      <th>mean_severity</th>\n",
       "      <th>n_dailylog</th>\n",
       "      <th>n_lifelog</th>\n",
       "      <th>n_questionnaire</th>\n",
       "      <th>sum_dtype</th>\n",
       "      <th>mean_dtype</th>\n",
       "    </tr>\n",
       "  </thead>\n",
       "  <tbody>\n",
       "    <tr>\n",
       "      <th>0</th>\n",
       "      <td>PXPN_10006</td>\n",
       "      <td>28</td>\n",
       "      <td>18</td>\n",
       "      <td>21</td>\n",
       "      <td>24</td>\n",
       "      <td>3</td>\n",
       "      <td>2.0</td>\n",
       "      <td>1.0</td>\n",
       "      <td>1.33</td>\n",
       "      <td>22</td>\n",
       "      <td>28</td>\n",
       "      <td>1</td>\n",
       "      <td>51</td>\n",
       "      <td>1.82</td>\n",
       "    </tr>\n",
       "    <tr>\n",
       "      <th>1</th>\n",
       "      <td>PXPN_10007</td>\n",
       "      <td>28</td>\n",
       "      <td>16</td>\n",
       "      <td>20</td>\n",
       "      <td>24</td>\n",
       "      <td>4</td>\n",
       "      <td>2.0</td>\n",
       "      <td>1.0</td>\n",
       "      <td>1.25</td>\n",
       "      <td>20</td>\n",
       "      <td>28</td>\n",
       "      <td>1</td>\n",
       "      <td>49</td>\n",
       "      <td>1.75</td>\n",
       "    </tr>\n",
       "    <tr>\n",
       "      <th>2</th>\n",
       "      <td>PXPN_10008</td>\n",
       "      <td>27</td>\n",
       "      <td>18</td>\n",
       "      <td>21</td>\n",
       "      <td>24</td>\n",
       "      <td>3</td>\n",
       "      <td>2.0</td>\n",
       "      <td>1.0</td>\n",
       "      <td>1.67</td>\n",
       "      <td>20</td>\n",
       "      <td>27</td>\n",
       "      <td>1</td>\n",
       "      <td>48</td>\n",
       "      <td>1.78</td>\n",
       "    </tr>\n",
       "    <tr>\n",
       "      <th>3</th>\n",
       "      <td>PXPN_10009</td>\n",
       "      <td>28</td>\n",
       "      <td>17</td>\n",
       "      <td>19</td>\n",
       "      <td>22</td>\n",
       "      <td>5</td>\n",
       "      <td>4.0</td>\n",
       "      <td>1.0</td>\n",
       "      <td>2.60</td>\n",
       "      <td>28</td>\n",
       "      <td>28</td>\n",
       "      <td>1</td>\n",
       "      <td>57</td>\n",
       "      <td>2.04</td>\n",
       "    </tr>\n",
       "    <tr>\n",
       "      <th>4</th>\n",
       "      <td>PXPN_10010</td>\n",
       "      <td>28</td>\n",
       "      <td>25</td>\n",
       "      <td>26</td>\n",
       "      <td>27</td>\n",
       "      <td>0</td>\n",
       "      <td>NaN</td>\n",
       "      <td>NaN</td>\n",
       "      <td>NaN</td>\n",
       "      <td>23</td>\n",
       "      <td>28</td>\n",
       "      <td>1</td>\n",
       "      <td>52</td>\n",
       "      <td>1.86</td>\n",
       "    </tr>\n",
       "  </tbody>\n",
       "</table>\n",
       "</div>"
      ],
      "text/plain": [
       "           ID  n_entries  n_valid_3_entries  n_valid_2_entries  \\\n",
       "0  PXPN_10006         28                 18                 21   \n",
       "1  PXPN_10007         28                 16                 20   \n",
       "2  PXPN_10008         27                 18                 21   \n",
       "3  PXPN_10009         28                 17                 19   \n",
       "4  PXPN_10010         28                 25                 26   \n",
       "\n",
       "   n_valid_1_entries  n_panic  max_severity  min_severity  mean_severity  \\\n",
       "0                 24        3           2.0           1.0           1.33   \n",
       "1                 24        4           2.0           1.0           1.25   \n",
       "2                 24        3           2.0           1.0           1.67   \n",
       "3                 22        5           4.0           1.0           2.60   \n",
       "4                 27        0           NaN           NaN            NaN   \n",
       "\n",
       "   n_dailylog  n_lifelog  n_questionnaire  sum_dtype  mean_dtype  \n",
       "0          22         28                1         51        1.82  \n",
       "1          20         28                1         49        1.75  \n",
       "2          20         27                1         48        1.78  \n",
       "3          28         28                1         57        2.04  \n",
       "4          23         28                1         52        1.86  "
      ]
     },
     "metadata": {},
     "output_type": "display_data"
    },
    {
     "name": "stderr",
     "output_type": "stream",
     "text": [
      "DEBUG - (text_utils.py) save_as_csv: Saved panic_patient_analysis_3-0(final_result_20250626_360_no_ffill).csv to C:\\Users\\cyshi\\OneDrive\\Documents\\GitHub\\Panic-Project-CYS\\_output\\final_result_20250626_360_no_ffill\\analysis\n"
     ]
    },
    {
     "data": {
      "text/plain": [
       "WindowsPath('C:/Users/cyshi/OneDrive/Documents/GitHub/Panic-Project-CYS/_output/final_result_20250626_360_no_ffill/analysis/panic_patient_analysis_3-0(final_result_20250626_360_no_ffill).csv')"
      ]
     },
     "execution_count": 8,
     "metadata": {},
     "output_type": "execute_result"
    }
   ],
   "source": [
    "agg_matrix = [\n",
    "\t('n_entries', 'entry_id', 'count'),\n",
    "\t('n_valid_3_entries', 'valid_entry_3', 'sum'),\n",
    "\t('n_valid_2_entries', 'valid_entry_2', 'sum'),\n",
    "\t('n_valid_1_entries', 'valid_entry_1', 'sum'),\n",
    "\t('n_panic', 'panic_label', 'sum'),\n",
    "    ('max_severity', 'severity', 'max'),\n",
    "\t('min_severity', 'severity', 'min'),\n",
    "\t('mean_severity', 'severity', 'mean'),\n",
    "\t('n_dailylog', 'dailylog_data', 'sum'),\n",
    "\t('n_lifelog', 'lifelog_data', 'sum'),\n",
    "\t('n_questionnaire', 'questionnaire_data', 'sum'),\n",
    "\t('sum_dtype', 'dtype_n', 'sum'),\n",
    "\t('mean_dtype', 'dtype_n', 'mean'),\n",
    "]\n",
    "patient_analysis_data = create_empty_df()\n",
    "patient_analysis_data = aggregate_by_column(metadata, 'ID', agg_matrix)\n",
    "\n",
    "display(patient_analysis_data.head(5))\n",
    "save_as_csv(patient_analysis_data, OUTPUT_PATH, f\"panic_patient_analysis_{version}({scraped_data_filename})\")"
   ]
  },
  {
   "cell_type": "markdown",
   "id": "a79b23f4",
   "metadata": {},
   "source": [
    "## 🤯🕳️ | Patient-level Null Value Analysis\n",
    "\n",
    "Produces csv file of the percentage of the Null values for each feature in Daily Log, and Life Log for each patient"
   ]
  },
  {
   "cell_type": "code",
   "execution_count": 9,
   "id": "a9e1534c",
   "metadata": {},
   "outputs": [
    {
     "data": {
      "text/html": [
       "<div>\n",
       "<style scoped>\n",
       "    .dataframe tbody tr th:only-of-type {\n",
       "        vertical-align: middle;\n",
       "    }\n",
       "\n",
       "    .dataframe tbody tr th {\n",
       "        vertical-align: top;\n",
       "    }\n",
       "\n",
       "    .dataframe thead th {\n",
       "        text-align: right;\n",
       "    }\n",
       "</style>\n",
       "<table border=\"1\" class=\"dataframe\">\n",
       "  <thead>\n",
       "    <tr style=\"text-align: right;\">\n",
       "      <th></th>\n",
       "      <th>ID</th>\n",
       "      <th>n_entries</th>\n",
       "      <th>HR_var</th>\n",
       "      <th>HR_max</th>\n",
       "      <th>HR_mean</th>\n",
       "      <th>HR_hvar_mean</th>\n",
       "      <th>HR_acrophase</th>\n",
       "      <th>HR_amplitude</th>\n",
       "      <th>HR_mesor</th>\n",
       "      <th>HR_acrophase_difference</th>\n",
       "      <th>...</th>\n",
       "      <th>anxiety</th>\n",
       "      <th>annoying</th>\n",
       "      <th>lifelog_avg</th>\n",
       "      <th>lifelog_HR_avg</th>\n",
       "      <th>lifelog_steps_avg</th>\n",
       "      <th>lifelog_sleep_avg</th>\n",
       "      <th>dailylog_avg_avg</th>\n",
       "      <th>dailylog_mood_avg</th>\n",
       "      <th>dailylog_life_avg</th>\n",
       "      <th>total_avg</th>\n",
       "    </tr>\n",
       "  </thead>\n",
       "  <tbody>\n",
       "    <tr>\n",
       "      <th>0</th>\n",
       "      <td>PXPN_10006</td>\n",
       "      <td>28</td>\n",
       "      <td>10.71</td>\n",
       "      <td>10.71</td>\n",
       "      <td>10.71</td>\n",
       "      <td>10.71</td>\n",
       "      <td>67.86</td>\n",
       "      <td>67.86</td>\n",
       "      <td>67.86</td>\n",
       "      <td>89.29</td>\n",
       "      <td>...</td>\n",
       "      <td>21.43</td>\n",
       "      <td>21.43</td>\n",
       "      <td>36.00</td>\n",
       "      <td>62.61</td>\n",
       "      <td>3.30</td>\n",
       "      <td>32.14</td>\n",
       "      <td>58.93</td>\n",
       "      <td>27.38</td>\n",
       "      <td>90.71</td>\n",
       "      <td>41.62</td>\n",
       "    </tr>\n",
       "    <tr>\n",
       "      <th>1</th>\n",
       "      <td>PXPN_10007</td>\n",
       "      <td>28</td>\n",
       "      <td>0.00</td>\n",
       "      <td>0.00</td>\n",
       "      <td>0.00</td>\n",
       "      <td>0.00</td>\n",
       "      <td>53.57</td>\n",
       "      <td>53.57</td>\n",
       "      <td>53.57</td>\n",
       "      <td>82.14</td>\n",
       "      <td>...</td>\n",
       "      <td>28.57</td>\n",
       "      <td>28.57</td>\n",
       "      <td>43.24</td>\n",
       "      <td>50.42</td>\n",
       "      <td>3.30</td>\n",
       "      <td>100.00</td>\n",
       "      <td>64.29</td>\n",
       "      <td>45.24</td>\n",
       "      <td>82.86</td>\n",
       "      <td>48.40</td>\n",
       "    </tr>\n",
       "    <tr>\n",
       "      <th>2</th>\n",
       "      <td>PXPN_10008</td>\n",
       "      <td>27</td>\n",
       "      <td>0.00</td>\n",
       "      <td>0.00</td>\n",
       "      <td>0.00</td>\n",
       "      <td>0.00</td>\n",
       "      <td>55.56</td>\n",
       "      <td>55.56</td>\n",
       "      <td>55.56</td>\n",
       "      <td>77.78</td>\n",
       "      <td>...</td>\n",
       "      <td>25.93</td>\n",
       "      <td>25.93</td>\n",
       "      <td>44.14</td>\n",
       "      <td>52.29</td>\n",
       "      <td>3.42</td>\n",
       "      <td>100.00</td>\n",
       "      <td>64.81</td>\n",
       "      <td>37.04</td>\n",
       "      <td>93.33</td>\n",
       "      <td>49.21</td>\n",
       "    </tr>\n",
       "    <tr>\n",
       "      <th>3</th>\n",
       "      <td>PXPN_10009</td>\n",
       "      <td>28</td>\n",
       "      <td>100.00</td>\n",
       "      <td>100.00</td>\n",
       "      <td>100.00</td>\n",
       "      <td>100.00</td>\n",
       "      <td>100.00</td>\n",
       "      <td>100.00</td>\n",
       "      <td>100.00</td>\n",
       "      <td>100.00</td>\n",
       "      <td>...</td>\n",
       "      <td>0.00</td>\n",
       "      <td>0.00</td>\n",
       "      <td>67.57</td>\n",
       "      <td>100.00</td>\n",
       "      <td>7.69</td>\n",
       "      <td>100.00</td>\n",
       "      <td>39.29</td>\n",
       "      <td>0.00</td>\n",
       "      <td>77.86</td>\n",
       "      <td>60.64</td>\n",
       "    </tr>\n",
       "    <tr>\n",
       "      <th>4</th>\n",
       "      <td>PXPN_10010</td>\n",
       "      <td>28</td>\n",
       "      <td>100.00</td>\n",
       "      <td>100.00</td>\n",
       "      <td>100.00</td>\n",
       "      <td>100.00</td>\n",
       "      <td>100.00</td>\n",
       "      <td>100.00</td>\n",
       "      <td>100.00</td>\n",
       "      <td>100.00</td>\n",
       "      <td>...</td>\n",
       "      <td>17.86</td>\n",
       "      <td>17.86</td>\n",
       "      <td>66.51</td>\n",
       "      <td>100.00</td>\n",
       "      <td>4.67</td>\n",
       "      <td>100.00</td>\n",
       "      <td>45.54</td>\n",
       "      <td>20.24</td>\n",
       "      <td>65.00</td>\n",
       "      <td>61.37</td>\n",
       "    </tr>\n",
       "  </tbody>\n",
       "</table>\n",
       "<p>5 rows × 59 columns</p>\n",
       "</div>"
      ],
      "text/plain": [
       "           ID  n_entries  HR_var  HR_max  HR_mean  HR_hvar_mean  HR_acrophase  \\\n",
       "0  PXPN_10006         28   10.71   10.71    10.71         10.71         67.86   \n",
       "1  PXPN_10007         28    0.00    0.00     0.00          0.00         53.57   \n",
       "2  PXPN_10008         27    0.00    0.00     0.00          0.00         55.56   \n",
       "3  PXPN_10009         28  100.00  100.00   100.00        100.00        100.00   \n",
       "4  PXPN_10010         28  100.00  100.00   100.00        100.00        100.00   \n",
       "\n",
       "   HR_amplitude  HR_mesor  HR_acrophase_difference  ...  anxiety  annoying  \\\n",
       "0         67.86     67.86                    89.29  ...    21.43     21.43   \n",
       "1         53.57     53.57                    82.14  ...    28.57     28.57   \n",
       "2         55.56     55.56                    77.78  ...    25.93     25.93   \n",
       "3        100.00    100.00                   100.00  ...     0.00      0.00   \n",
       "4        100.00    100.00                   100.00  ...    17.86     17.86   \n",
       "\n",
       "   lifelog_avg  lifelog_HR_avg  lifelog_steps_avg  lifelog_sleep_avg  \\\n",
       "0        36.00           62.61               3.30              32.14   \n",
       "1        43.24           50.42               3.30             100.00   \n",
       "2        44.14           52.29               3.42             100.00   \n",
       "3        67.57          100.00               7.69             100.00   \n",
       "4        66.51          100.00               4.67             100.00   \n",
       "\n",
       "   dailylog_avg_avg  dailylog_mood_avg  dailylog_life_avg  total_avg  \n",
       "0             58.93              27.38              90.71      41.62  \n",
       "1             64.29              45.24              82.86      48.40  \n",
       "2             64.81              37.04              93.33      49.21  \n",
       "3             39.29               0.00              77.86      60.64  \n",
       "4             45.54              20.24              65.00      61.37  \n",
       "\n",
       "[5 rows x 59 columns]"
      ]
     },
     "metadata": {},
     "output_type": "display_data"
    },
    {
     "name": "stderr",
     "output_type": "stream",
     "text": [
      "DEBUG - (text_utils.py) save_as_csv: Saved panic_patient_null_analysis_3-0(final_result_20250626_360_no_ffill).csv to C:\\Users\\cyshi\\OneDrive\\Documents\\GitHub\\Panic-Project-CYS\\_output\\final_result_20250626_360_no_ffill\\analysis\n"
     ]
    },
    {
     "data": {
      "text/plain": [
       "WindowsPath('C:/Users/cyshi/OneDrive/Documents/GitHub/Panic-Project-CYS/_output/final_result_20250626_360_no_ffill/analysis/panic_patient_null_analysis_3-0(final_result_20250626_360_no_ffill).csv')"
      ]
     },
     "execution_count": 9,
     "metadata": {},
     "output_type": "execute_result"
    }
   ],
   "source": [
    "agg_matrix = [('n_entries', 'entry_id', 'count')]\n",
    "cols_to_analyze = features_dict['lifelog'] + features_dict['dailylog']\n",
    "\n",
    "for col in cols_to_analyze:\n",
    "    agg_matrix.append((col, col, 'count'))\n",
    "\n",
    "patient_null_analysis_data = create_empty_df()\n",
    "patient_null_analysis_data = aggregate_by_column(pre_data, 'ID', agg_matrix)\n",
    "\n",
    "for col in cols_to_analyze:\n",
    "    patient_null_analysis_data[col] = (patient_null_analysis_data['n_entries'] - patient_null_analysis_data[col]) / patient_null_analysis_data['n_entries'] * 100\n",
    "\n",
    "patient_null_analysis_data['lifelog_avg'] = patient_null_analysis_data[features_dict['lifelog']].mean(axis=1)\n",
    "patient_null_analysis_data['lifelog_HR_avg'] = patient_null_analysis_data[features_dict['lifelog_HR']].mean(axis=1)\n",
    "patient_null_analysis_data['lifelog_steps_avg'] = patient_null_analysis_data[features_dict['lifelog_steps']].mean(axis=1)\n",
    "patient_null_analysis_data['lifelog_sleep_avg'] = patient_null_analysis_data[features_dict['lifelog_sleep']].mean(axis=1)\n",
    "\n",
    "patient_null_analysis_data['dailylog_avg_avg'] = patient_null_analysis_data[features_dict['dailylog']].mean(axis=1)\n",
    "patient_null_analysis_data['dailylog_mood_avg'] = patient_null_analysis_data[features_dict['mood']].mean(axis=1)\n",
    "patient_null_analysis_data['dailylog_life_avg'] = patient_null_analysis_data[features_dict['dailylog_life']].mean(axis=1)\n",
    "\n",
    "patient_null_analysis_data['total_avg'] = patient_null_analysis_data[features_dict['lifelog'] + features_dict['dailylog']].mean(axis=1)\n",
    "\n",
    "display(patient_null_analysis_data.head(5))\n",
    "save_as_csv(patient_null_analysis_data, OUTPUT_PATH, f\"panic_patient_null_analysis_{version}({scraped_data_filename})\")"
   ]
  },
  {
   "cell_type": "markdown",
   "id": "c0bdba2a",
   "metadata": {},
   "source": [
    "# 📒 | Reports"
   ]
  },
  {
   "cell_type": "code",
   "execution_count": 10,
   "id": "ecf66dec",
   "metadata": {},
   "outputs": [],
   "source": [
    "from library.matplotlib_utils import plot_histogram_of_counts"
   ]
  },
  {
   "cell_type": "markdown",
   "id": "ae1b0af6",
   "metadata": {},
   "source": [
    "## Overview"
   ]
  },
  {
   "cell_type": "code",
   "execution_count": 11,
   "id": "77f58181",
   "metadata": {},
   "outputs": [
    {
     "name": "stdout",
     "output_type": "stream",
     "text": [
      "Total number of unique IDs in pre_data_filled: 273\n",
      "Total number of entries in pre_data_filled: 19379\n",
      "Total number of panic entries in pre_data_filled: 811\n"
     ]
    }
   ],
   "source": [
    "unique_ids =  pre_data['ID'].unique()\n",
    "print(f\"Total number of unique IDs in pre_data_filled: {len(unique_ids)}\")\n",
    "print(f\"Total number of entries in pre_data_filled: {len(pre_data)}\")\n",
    "panic_entries = pre_data[pre_data['panic_label'] == 1]\n",
    "print(f\"Total number of panic entries in pre_data_filled: {len(panic_entries)}\")"
   ]
  },
  {
   "cell_type": "code",
   "execution_count": 12,
   "id": "9142c25f",
   "metadata": {},
   "outputs": [
    {
     "name": "stdout",
     "output_type": "stream",
     "text": [
      "Total number of daily log entries: 14854 / 19379 (76.65%)\n",
      "Total number of life log entries: 12408 / 19379 (64.03%)\n",
      "Total number of questionnaire entries: 638 / 19379 (3.29%)\n"
     ]
    }
   ],
   "source": [
    "filled_entry_ids = pre_data['entry_id'].unique()\n",
    "print(f\"Total number of daily log entries: {metadata[metadata['dailylog_data'] == 1].shape[0]} / {len(filled_entry_ids)} ({metadata[metadata['dailylog_data'] == 1].shape[0] / len(filled_entry_ids) * 100:.2f}%)\")\n",
    "print(f\"Total number of life log entries: {metadata[metadata['lifelog_data'] == 1].shape[0]} / {len(filled_entry_ids)} ({metadata[metadata['lifelog_data'] == 1].shape[0] / len(filled_entry_ids) * 100:.2f}%)\")\n",
    "print(f\"Total number of questionnaire entries: {metadata[metadata['questionnaire_data'] == 1].shape[0]} / {len(filled_entry_ids)} ({metadata[metadata['questionnaire_data'] == 1].shape[0] / len(filled_entry_ids) * 100:.2f}%)\")"
   ]
  },
  {
   "cell_type": "code",
   "execution_count": 13,
   "id": "befcc5dc",
   "metadata": {},
   "outputs": [
    {
     "name": "stdout",
     "output_type": "stream",
     "text": [
      "Total number of patients with panic events: 105\n"
     ]
    }
   ],
   "source": [
    "panic_patients = metadata[metadata['panic_label'] == 1]['ID'].unique()\n",
    "print(f\"Total number of patients with panic events: {len(panic_patients)}\")"
   ]
  },
  {
   "cell_type": "markdown",
   "id": "1cb4ad05",
   "metadata": {},
   "source": [
    "## 🗒️ | Entry-level Analysis"
   ]
  },
  {
   "cell_type": "markdown",
   "id": "6f2b1ffa",
   "metadata": {},
   "source": [
    "### Data Groups"
   ]
  },
  {
   "cell_type": "code",
   "execution_count": 14,
   "id": "f0cf24a5",
   "metadata": {},
   "outputs": [
    {
     "data": {
      "image/png": "[encoded data removed]",
      "text/plain": [
       "<Figure size 1000x400 with 1 Axes>"
      ]
     },
     "metadata": {},
     "output_type": "display_data"
    },
    {
     "name": "stdout",
     "output_type": "stream",
     "text": [
      "Number of entries with 1 data type: 11099 (57.27%)\n",
      "Number of entries with 2 data types: 8039 (41.48%)\n",
      "Number of entries with 3 data types: 241 (1.24%)\n"
     ]
    }
   ],
   "source": [
    "plot_histogram_of_counts(metadata['dtype_n'], title='Number of data types per entry', xlabel='Number of data types', ylabel='Number of entries', zero_start=False, bins_step=1)\n",
    "print(f\"Number of entries with 1 data type: {metadata[metadata['dtype_n'] == 1].shape[0]} ({metadata[metadata['dtype_n'] == 1].shape[0] / metadata.shape[0] * 100:.2f}%)\")\n",
    "print(f\"Number of entries with 2 data types: {metadata[metadata['dtype_n'] == 2].shape[0]} ({metadata[metadata['dtype_n'] == 2].shape[0] / metadata.shape[0] * 100:.2f}%)\")\n",
    "print(f\"Number of entries with 3 data types: {metadata[metadata['dtype_n'] == 3].shape[0]} ({metadata[metadata['dtype_n'] == 3].shape[0] / metadata.shape[0] * 100:.2f}%)\")"
   ]
  },
  {
   "cell_type": "markdown",
   "id": "b33b01fb",
   "metadata": {},
   "source": [
    "### Valid Entries"
   ]
  },
  {
   "cell_type": "code",
   "execution_count": 15,
   "id": "4f8301b9",
   "metadata": {},
   "outputs": [
    {
     "name": "stdout",
     "output_type": "stream",
     "text": [
      "Total number of valid entries (3 days): 14288 (73.73%)\n",
      "Total number of valid entries (2 days): 15391 (79.42%)\n",
      "Total number of valid entries (1 day): 16947 (87.45%)\n"
     ]
    }
   ],
   "source": [
    "print(f\"Total number of valid entries (3 days): {metadata['valid_entry_3'].sum()} ({metadata['valid_entry_3'].mean() * 100:.2f}%)\")\n",
    "print(f\"Total number of valid entries (2 days): {metadata['valid_entry_2'].sum()} ({metadata['valid_entry_2'].mean() * 100:.2f}%)\")\n",
    "print(f\"Total number of valid entries (1 day): {metadata['valid_entry_1'].sum()} ({metadata['valid_entry_1'].mean() * 100:.2f}%)\")"
   ]
  },
  {
   "cell_type": "code",
   "execution_count": 16,
   "id": "5654adf3",
   "metadata": {},
   "outputs": [
    {
     "name": "stdout",
     "output_type": "stream",
     "text": [
      "Total number of panic events (panic_label=1): 811\n",
      "Total number of valid panic events (n_prior_data >= 3 days): 256 (31.57%)\n",
      "Total number of valid panic events (n_prior_data >= 2 days): 317 (39.09%)\n",
      "Total number of valid panic events (n_prior_data >= 1 day): 449 (55.36%)\n"
     ]
    }
   ],
   "source": [
    "panic_n = pre_data[pre_data['panic_label'] == 1].shape[0]\n",
    "print(f\"Total number of panic events (panic_label=1): {panic_n}\")\n",
    "valid_panic_events_3 = metadata[(metadata['valid_entry_3'] == 1) & (metadata['dbp'] == 0)].shape[0]\n",
    "print(f\"Total number of valid panic events (n_prior_data >= 3 days): {valid_panic_events_3} ({valid_panic_events_3 / panic_n * 100:.2f}%)\")\n",
    "valid_panic_events_2 = metadata[(metadata['valid_entry_2'] == 1) & (metadata['dbp'] == 0)].shape[0]\n",
    "print(f\"Total number of valid panic events (n_prior_data >= 2 days): {valid_panic_events_2} ({valid_panic_events_2 / panic_n * 100:.2f}%)\")\n",
    "valid_panic_events_1 = metadata[(metadata['valid_entry_1'] == 1) & (metadata['dbp'] == 0)].shape[0]\n",
    "print(f\"Total number of valid panic events (n_prior_data >= 1 day): {valid_panic_events_1} ({valid_panic_events_1 / panic_n * 100:.2f}%)\")"
   ]
  },
  {
   "cell_type": "code",
   "execution_count": 17,
   "id": "faecf9b0",
   "metadata": {},
   "outputs": [
    {
     "name": "stdout",
     "output_type": "stream",
     "text": [
      "Total number of entries with dbp=1: 449 (2.32%)\n",
      "Total number of entries with dbp=2: 339 (1.75%)\n"
     ]
    }
   ],
   "source": [
    "one_dbp = metadata[metadata['dbp'] == 1]\n",
    "print(f\"Total number of entries with dbp=1: {one_dbp.shape[0]} ({one_dbp.shape[0] / metadata.shape[0] * 100:.2f}%)\")\n",
    "two_dvp = metadata[metadata['dbp'] == 2]\n",
    "print(f\"Total number of entries with dbp=2: {two_dvp.shape[0]} ({two_dvp.shape[0] / metadata.shape[0] * 100:.2f}%)\")"
   ]
  },
  {
   "cell_type": "markdown",
   "id": "ff574743",
   "metadata": {},
   "source": [
    "## 🤢 | Patient-level Analysis"
   ]
  },
  {
   "cell_type": "code",
   "execution_count": 18,
   "id": "8105998a",
   "metadata": {},
   "outputs": [],
   "source": [
    "pre_data_ids = pre_data['ID'].unique()"
   ]
  },
  {
   "cell_type": "markdown",
   "id": "5f10e315",
   "metadata": {},
   "source": [
    "### Patient-level Valid Entries"
   ]
  },
  {
   "cell_type": "code",
   "execution_count": 19,
   "id": "d48fdd58",
   "metadata": {},
   "outputs": [
    {
     "name": "stdout",
     "output_type": "stream",
     "text": [
      "Number of patients with > 100 entries: 60 / 273 (21.98%)\n",
      "Number of patients with <= 100 entries: 213 / 273 (78.02%)\n",
      "Number of patients with > 30 entries: 109 / 273 (39.93%)\n",
      "Number of patients with <= 30 entries: 164 / 273 (60.07%)\n"
     ]
    },
    {
     "data": {
      "image/png": "[encoded data removed]",
      "text/plain": [
       "<Figure size 1000x400 with 1 Axes>"
      ]
     },
     "metadata": {},
     "output_type": "display_data"
    },
    {
     "name": "stdout",
     "output_type": "stream",
     "text": [
      "Number of valid patients (1 days): 203 / 273\n",
      "70 patients do not have valid entries (i.e., no data for at least 1 days before panic event)\n"
     ]
    },
    {
     "data": {
      "image/png": "[encoded data removed]",
      "text/plain": [
       "<Figure size 1000x400 with 1 Axes>"
      ]
     },
     "metadata": {},
     "output_type": "display_data"
    },
    {
     "name": "stdout",
     "output_type": "stream",
     "text": [
      "Number of valid patients (2 days): 169 / 273\n",
      "104 patients do not have valid entries (i.e., no data for at least 2 days before panic event)\n"
     ]
    },
    {
     "data": {
      "image/png": "[encoded data removed]",
      "text/plain": [
       "<Figure size 1000x400 with 1 Axes>"
      ]
     },
     "metadata": {},
     "output_type": "display_data"
    },
    {
     "name": "stdout",
     "output_type": "stream",
     "text": [
      "Number of valid patients (3 days): 155 / 273\n",
      "118 patients do not have valid entries (i.e., no data for at least 3 days before panic event)\n"
     ]
    },
    {
     "data": {
      "image/png": "[encoded data removed]",
      "text/plain": [
       "<Figure size 1000x400 with 1 Axes>"
      ]
     },
     "metadata": {},
     "output_type": "display_data"
    }
   ],
   "source": [
    "print(f\"Number of patients with > 100 entries: {patient_analysis_data[patient_analysis_data['n_entries'] > 100].shape[0]} / {len(pre_data_ids)} ({patient_analysis_data[patient_analysis_data['n_entries'] > 100].shape[0] / len(pre_data_ids) * 100:.2f}%)\")\n",
    "print(f\"Number of patients with <= 100 entries: {patient_analysis_data[patient_analysis_data['n_entries'] <= 100].shape[0]} / {len(pre_data_ids)} ({patient_analysis_data[patient_analysis_data['n_entries'] <= 100].shape[0] / len(pre_data_ids) * 100:.2f}%)\")\n",
    "print(f\"Number of patients with > 30 entries: {patient_analysis_data[patient_analysis_data['n_entries'] > 30].shape[0]} / {len(pre_data_ids)} ({patient_analysis_data[patient_analysis_data['n_entries'] > 30].shape[0] / len(pre_data_ids) * 100:.2f}%)\")\n",
    "print(f\"Number of patients with <= 30 entries: {patient_analysis_data[patient_analysis_data['n_entries'] <= 30].shape[0]} / {len(pre_data_ids)} ({patient_analysis_data[patient_analysis_data['n_entries'] <= 30].shape[0] / len(pre_data_ids) * 100:.2f}%)\")\n",
    "plot_histogram_of_counts(patient_analysis_data['n_entries'], title='Number of Entries per Patient',\n",
    "                         xlabel='Number of Entries', ylabel='Number of Patients', bins_step=20, exclude_zero=True)\n",
    "valid_patients = patient_analysis_data[patient_analysis_data['n_valid_1_entries'] > 0]\n",
    "n_valid_patients_1 = valid_patients.shape[0]\n",
    "print(f\"Number of valid patients (1 days): {valid_patients.shape[0]} / {len(pre_data_ids)}\")\n",
    "print(f\"{len(pre_data_ids) - valid_patients.shape[0]} patients do not have valid entries (i.e., no data for at least 1 days before panic event)\")\n",
    "plot_histogram_of_counts(patient_analysis_data['n_valid_1_entries'], title='Number of Valid Entries (1 days) per Patient',\n",
    "                         xlabel='Number of Valid Entries (1 days)', ylabel='Number of Patients', bins_step=20, exclude_zero=True)\n",
    "valid_patients = patient_analysis_data[patient_analysis_data['n_valid_2_entries'] > 0]\n",
    "n_valid_patients_2 = valid_patients.shape[0]\n",
    "print(f\"Number of valid patients (2 days): {valid_patients.shape[0]} / {len(pre_data_ids)}\")\n",
    "print(f\"{len(pre_data_ids) - valid_patients.shape[0]} patients do not have valid entries (i.e., no data for at least 2 days before panic event)\")\n",
    "plot_histogram_of_counts(patient_analysis_data['n_valid_2_entries'], title='Number of Valid Entries (2 days) per Patient',\n",
    "                         xlabel='Number of Valid Entries (2 days)', ylabel='Number of Patients', bins_step=20, exclude_zero=True)\n",
    "valid_patients = patient_analysis_data[patient_analysis_data['n_valid_3_entries'] > 0]\n",
    "n_valid_patients_3 = valid_patients.shape[0]\n",
    "print(f\"Number of valid patients (3 days): {valid_patients.shape[0]} / {len(pre_data_ids)}\")\n",
    "print(f\"{len(pre_data_ids) - valid_patients.shape[0]} patients do not have valid entries (i.e., no data for at least 3 days before panic event)\")\n",
    "plot_histogram_of_counts(patient_analysis_data['n_valid_3_entries'], title='Number of Valid Entries (3 days) per Patient',\n",
    "                         xlabel='Number of Valid Entries (3 days)', ylabel='Number of Patients', bins_step=20, exclude_zero=True)\n",
    "del valid_patients"
   ]
  },
  {
   "cell_type": "markdown",
   "id": "af1ed563",
   "metadata": {},
   "source": [
    "### Patient-level Panic Analysis"
   ]
  },
  {
   "cell_type": "code",
   "execution_count": 20,
   "id": "0145840c",
   "metadata": {},
   "outputs": [
    {
     "name": "stdout",
     "output_type": "stream",
     "text": [
      "Number of patients with > 2 number of panic events: 62 / 273 (22.71%)\n",
      "Number of patients with <= 2 number of panic events: 211 / 273 (77.29%)\n",
      "Number of patients with > 10 number of panic events: 22 / 273 (8.06%)\n",
      "Number of patients with <= 10 number of panic events: 251 / 273 (91.94%)\n"
     ]
    },
    {
     "data": {
      "image/png": "[encoded data removed]",
      "text/plain": [
       "<Figure size 1000x400 with 1 Axes>"
      ]
     },
     "metadata": {},
     "output_type": "display_data"
    },
    {
     "name": "stdout",
     "output_type": "stream",
     "text": [
      "Number of patients with zero panic events: 168 / 273\n"
     ]
    }
   ],
   "source": [
    "print(f\"Number of patients with > 2 number of panic events: {patient_analysis_data[patient_analysis_data['n_panic'] > 2].shape[0]} / {len(pre_data_ids)} ({patient_analysis_data[patient_analysis_data['n_panic'] > 2].shape[0] / len(pre_data_ids) * 100:.2f}%)\")\n",
    "print(f\"Number of patients with <= 2 number of panic events: {patient_analysis_data[patient_analysis_data['n_panic'] <= 2].shape[0]} / {len(pre_data_ids)} ({patient_analysis_data[patient_analysis_data['n_panic'] <= 2].shape[0] / len(pre_data_ids) * 100:.2f}%)\")\n",
    "print(f\"Number of patients with > 10 number of panic events: {patient_analysis_data[patient_analysis_data['n_panic'] > 10].shape[0]} / {len(pre_data_ids)} ({patient_analysis_data[patient_analysis_data['n_panic'] > 10].shape[0] / len(pre_data_ids) * 100:.2f}%)\")\n",
    "print(f\"Number of patients with <= 10 number of panic events: {patient_analysis_data[patient_analysis_data['n_panic'] <= 10].shape[0]} / {len(pre_data_ids)} ({patient_analysis_data[patient_analysis_data['n_panic'] <= 10].shape[0] / len(pre_data_ids) * 100:.2f}%)\")\n",
    "plot_histogram_of_counts(patient_analysis_data['n_panic'], title='Number of Panic Events per Patient', xlabel='Number of Panic Events', ylabel='Number of Patients', bins_step=5,exclude_zero=False)\n",
    "print(f\"Number of patients with zero panic events: {patient_analysis_data[patient_analysis_data['n_panic'] == 0].shape[0]} / {len(pre_data_ids)}\")"
   ]
  },
  {
   "cell_type": "code",
   "execution_count": 21,
   "id": "29839359",
   "metadata": {},
   "outputs": [
    {
     "name": "stdout",
     "output_type": "stream",
     "text": [
      "Number of patients with valid panic events (3 days): 77 / 155\n",
      "Number of patients with valid panic events (2 days): 84 / 169\n",
      "Number of patients with valid panic events (1 days): 93 / 203\n"
     ]
    }
   ],
   "source": [
    "valid_panic_events_patients = patient_analysis_data[(patient_analysis_data['n_panic'] > 0) & (patient_analysis_data['n_valid_3_entries'] > 0)]\n",
    "print(f\"Number of patients with valid panic events (3 days): {valid_panic_events_patients.shape[0]} / {n_valid_patients_3}\")\n",
    "valid_panic_events_patients = patient_analysis_data[(patient_analysis_data['n_panic'] > 0) & (patient_analysis_data['n_valid_2_entries'] > 0)]\n",
    "print(f\"Number of patients with valid panic events (2 days): {valid_panic_events_patients.shape[0]} / {n_valid_patients_2}\")\n",
    "valid_panic_events_patients = patient_analysis_data[(patient_analysis_data['n_panic'] > 0) & (patient_analysis_data['n_valid_1_entries'] > 0)]\n",
    "print(f\"Number of patients with valid panic events (1 days): {valid_panic_events_patients.shape[0]} / {n_valid_patients_1}\")\n",
    "del valid_panic_events_patients"
   ]
  },
  {
   "cell_type": "code",
   "execution_count": 22,
   "id": "13b8cd16",
   "metadata": {},
   "outputs": [
    {
     "name": "stdout",
     "output_type": "stream",
     "text": [
      "Number of patients with panic events: 105 / 273\n"
     ]
    }
   ],
   "source": [
    "patients_with_panic = patient_analysis_data[patient_analysis_data['n_panic'] > 0]\n",
    "print(f\"Number of patients with panic events: {patients_with_panic.shape[0]} / {len(pre_data_ids)}\")"
   ]
  },
  {
   "cell_type": "markdown",
   "id": "10aa2db7",
   "metadata": {},
   "source": [
    "### Patient-level Data Group Analysis"
   ]
  },
  {
   "cell_type": "code",
   "execution_count": 23,
   "id": "f1bdc7aa",
   "metadata": {},
   "outputs": [
    {
     "data": {
      "image/png": "[encoded data removed]",
      "text/plain": [
       "<Figure size 1000x400 with 1 Axes>"
      ]
     },
     "metadata": {},
     "output_type": "display_data"
    },
    {
     "name": "stdout",
     "output_type": "stream",
     "text": [
      "Number of patients with no daily log entries: 35 / 273\n"
     ]
    },
    {
     "data": {
      "image/png": "[encoded data removed]",
      "text/plain": [
       "<Figure size 1000x400 with 1 Axes>"
      ]
     },
     "metadata": {},
     "output_type": "display_data"
    },
    {
     "name": "stdout",
     "output_type": "stream",
     "text": [
      "Number of patients with no life log entries: 120 / 273\n"
     ]
    },
    {
     "data": {
      "image/png": "[encoded data removed]",
      "text/plain": [
       "<Figure size 1000x400 with 1 Axes>"
      ]
     },
     "metadata": {},
     "output_type": "display_data"
    },
    {
     "name": "stdout",
     "output_type": "stream",
     "text": [
      "Number of patients with no questionnaire entries: 78 / 273\n"
     ]
    }
   ],
   "source": [
    "plot_histogram_of_counts(patient_analysis_data['n_dailylog'], title='Number of Daily Log Entries per Patient',\n",
    "\t\t\t\t\t\t xlabel='Number of Daily Log Entries', ylabel='Number of Patients', bins_step=20, exclude_zero=True)\n",
    "print(f\"Number of patients with no daily log entries: {patient_analysis_data[patient_analysis_data['n_dailylog'] == 0].shape[0]} / {len(pre_data_ids)}\")\n",
    "plot_histogram_of_counts(patient_analysis_data['n_lifelog'], title='Number of Life Log Entries per Patient',\n",
    "\t\t\t\t\t\t xlabel='Number of Life Log Entries', ylabel='Number of Patients', bins_step=20, exclude_zero=True)\n",
    "print(f\"Number of patients with no life log entries: {patient_analysis_data[patient_analysis_data['n_lifelog'] == 0].shape[0]} / {len(pre_data_ids)}\")\n",
    "plot_histogram_of_counts(patient_analysis_data['n_questionnaire'], title='Number of Questionnaire Entries per Patient',\n",
    "\t\t\t\t\t\t xlabel='Number of Questionnaire Entries', ylabel='Number of Patients', bins_step=20, exclude_zero=True)\n",
    "print(f\"Number of patients with no questionnaire entries: {patient_analysis_data[patient_analysis_data['n_questionnaire'] == 0].shape[0]} / {len(pre_data_ids)}\")"
   ]
  },
  {
   "cell_type": "code",
   "execution_count": 24,
   "id": "bb86ac5b",
   "metadata": {},
   "outputs": [
    {
     "name": "stdout",
     "output_type": "stream",
     "text": [
      "Number of panic events in preprocessed data: 811\n",
      "Number of valid panic entries (valid_entry_3): 256\n",
      "Number of valid panic entries (valid_entry_2): 317\n",
      "Number of valid panic entries (valid_entry_1): 449\n",
      "--------------------------------------------------------\n",
      "Number of patients with valid panic entries (valid_entry_3): 61\n",
      "Number of patients with valid panic entries (valid_entry_2): 67\n",
      "Number of patients with valid panic entries (valid_entry_1): 79\n"
     ]
    }
   ],
   "source": [
    "metadata_panic = metadata[metadata['panic_label'] == 1].copy()\n",
    "print(f\"Number of panic events in preprocessed data: {metadata_panic.shape[0]}\")\n",
    "agg_matrix = [\n",
    "\t('valid_entries_3', 'valid_entry_3', 'sum'),\n",
    "\t('valid_entries_2', 'valid_entry_2', 'sum'),\n",
    "\t('valid_entries_1', 'valid_entry_1', 'sum'),\n",
    "]\n",
    "agg_metadata_panic = aggregate_by_column(metadata_panic, 'ID', agg_matrix)\n",
    "\n",
    "print(f\"Number of valid panic entries (valid_entry_3): {agg_metadata_panic['valid_entries_3'].sum()}\")\n",
    "print(f\"Number of valid panic entries (valid_entry_2): {agg_metadata_panic['valid_entries_2'].sum()}\")\n",
    "print(f\"Number of valid panic entries (valid_entry_1): {agg_metadata_panic['valid_entries_1'].sum()}\")\n",
    "print(\"--------------------------------------------------------\")\n",
    "print(f\"Number of patients with valid panic entries (valid_entry_3): {agg_metadata_panic[agg_metadata_panic['valid_entries_3'] > 0].shape[0]}\")\n",
    "print(f\"Number of patients with valid panic entries (valid_entry_2): {agg_metadata_panic[agg_metadata_panic['valid_entries_2'] > 0].shape[0]}\")\n",
    "print(f\"Number of patients with valid panic entries (valid_entry_1): {agg_metadata_panic[agg_metadata_panic['valid_entries_1'] > 0].shape[0]}\")"
   ]
  }
 ],
 "metadata": {
  "kernelspec": {
   "display_name": "dhlab-panic",
   "language": "python",
   "name": "python3"
  },
  "language_info": {
   "codemirror_mode": {
    "name": "ipython",
    "version": 3
   },
   "file_extension": ".py",
   "mimetype": "text/x-python",
   "name": "python",
   "nbconvert_exporter": "python",
   "pygments_lexer": "ipython3",
   "version": "3.10.16"
  }
 },
 "nbformat": 4,
 "nbformat_minor": 5
}
