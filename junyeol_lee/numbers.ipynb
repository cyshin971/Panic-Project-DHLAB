{
 "cells": [
  {
   "cell_type": "code",
   "execution_count": 4,
   "id": "0ef342a4",
   "metadata": {},
   "outputs": [
    {
     "name": "stdout",
     "output_type": "stream",
     "text": [
      "429\n"
     ]
    }
   ],
   "source": [
    "import pandas as pd \n",
    "df = pd.read_csv(\"/Users/lee-junyeol/Downloads/preprocessing_code/Panic-Project-DHLAB/junyeol_lee/panic 총정리/SYM_PXPN_merge/final_result.csv\")\n",
    "print(len(df['ID'].unique()))"
   ]
  },
  {
   "cell_type": "code",
   "execution_count": 3,
   "id": "22692da2",
   "metadata": {},
   "outputs": [
    {
     "name": "stdout",
     "output_type": "stream",
     "text": [
      "전체 행 수: 24370\n",
      "유니크 (ID, date) 조합 수: 24370\n",
      "중복된 행 수: 0\n",
      "(ID,date) 중복 여부가 있는 행 수: 0\n",
      "중복된 (ID,date) 조합 예시:\n",
      "Empty DataFrame\n",
      "Columns: [ID, date, count]\n",
      "Index: []\n"
     ]
    }
   ],
   "source": [
    "import pandas as pd\n",
    "\n",
    "df = pd.read_csv(\"/Users/lee-junyeol/Downloads/preprocessing_code/Panic-Project-DHLAB/junyeol_lee/panic 총정리/SYM_PXPN_merge/final_result.csv\")\n",
    "\n",
    "# 1) 전체 행 수와 유니크 (ID, date) 조합 수 비교\n",
    "total_rows = len(df)\n",
    "unique_pairs = len(df.drop_duplicates(subset=['ID','date']))\n",
    "print(f\"전체 행 수: {total_rows}\")\n",
    "print(f\"유니크 (ID, date) 조합 수: {unique_pairs}\")\n",
    "print(f\"중복된 행 수: {total_rows - unique_pairs}\")\n",
    "\n",
    "# 2) duplicated 메서드로 중복 행 개수 세기\n",
    "dup_mask = df.duplicated(subset=['ID','date'], keep=False)\n",
    "print(f\"(ID,date) 중복 여부가 있는 행 수: {dup_mask.sum()}\")\n",
    "\n",
    "# 3) 실제 중복된 그룹만 살펴보기\n",
    "dup_groups = (\n",
    "    df\n",
    "    .groupby(['ID','date'])\n",
    "    .size()\n",
    "    .reset_index(name='count')\n",
    "    .query(\"count > 1\")\n",
    ")\n",
    "print(\"중복된 (ID,date) 조합 예시:\")\n",
    "print(dup_groups.head())"
   ]
  },
  {
   "cell_type": "code",
   "execution_count": null,
   "id": "e9eb8d84",
   "metadata": {},
   "outputs": [],
   "source": []
  }
 ],
 "metadata": {
  "kernelspec": {
   "display_name": "base",
   "language": "python",
   "name": "python3"
  },
  "language_info": {
   "codemirror_mode": {
    "name": "ipython",
    "version": 3
   },
   "file_extension": ".py",
   "mimetype": "text/x-python",
   "name": "python",
   "nbconvert_exporter": "python",
   "pygments_lexer": "ipython3",
   "version": "3.11.5"
  }
 },
 "nbformat": 4,
 "nbformat_minor": 5
}
