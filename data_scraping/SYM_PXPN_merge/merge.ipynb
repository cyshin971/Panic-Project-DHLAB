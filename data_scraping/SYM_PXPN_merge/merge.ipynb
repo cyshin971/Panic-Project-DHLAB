{
 "cells": [
  {
   "cell_type": "code",
   "execution_count": 1,
   "id": "3afaf54d",
   "metadata": {},
   "outputs": [],
   "source": [
    "import config as cfg"
   ]
  },
  {
   "cell_type": "code",
   "execution_count": 2,
   "id": "47241ba9",
   "metadata": {},
   "outputs": [],
   "source": [
    "import pandas as pd\n",
    "import os\n",
    "from library.path_utils import get_file_path\n",
    "\n",
    "base_dir = \"./data\"\n",
    "\n",
    "output_path = get_file_path(base_dir, \"merged_df.csv\")\n",
    "input_path_SYM = get_file_path(base_dir, \"SYM_720.csv\")\n",
    "input_path_PXPN = get_file_path(base_dir, \"PXPN_720.csv\")"
   ]
  },
  {
   "cell_type": "code",
   "execution_count": 3,
   "id": "029d52e2",
   "metadata": {},
   "outputs": [],
   "source": [
    "SYM = pd.read_csv(input_path_SYM, index_col=False)\n",
    "PXPN = pd.read_csv(input_path_PXPN, index_col=False)\n",
    "result = pd.concat([SYM, PXPN], ignore_index=True)\n",
    "\n",
    "drop_cols = [c for c in ['Unnamed: 0'] if c in result.columns]\n",
    "result = result.drop(columns=drop_cols)\n",
    "result = result.drop(columns=['medication_in_month','SPAQ_1', 'SPAQ_2', 'BFNE', 'CES_D', 'KOSSSF', 'SADS', 'STAI_X1', 'mood', 'contents'])\n",
    "\n",
    "result.to_csv(output_path, index=False)"
   ]
  }
 ],
 "metadata": {
  "kernelspec": {
   "display_name": "test",
   "language": "python",
   "name": "python3"
  },
  "language_info": {
   "codemirror_mode": {
    "name": "ipython",
    "version": 3
   },
   "file_extension": ".py",
   "mimetype": "text/x-python",
   "name": "python",
   "nbconvert_exporter": "python",
   "pygments_lexer": "ipython3",
   "version": "3.10.18"
  }
 },
 "nbformat": 4,
 "nbformat_minor": 5
}
