{
 "cells": [
  {
   "cell_type": "code",
   "execution_count": null,
   "id": "029d52e2",
   "metadata": {},
   "outputs": [],
   "source": [
    "import pandas as pd\n",
    "import os\n",
    "output_path = \"/Panic-Project-DHLAB/data/merged_df.csv\"\n",
    "input_path_SYM = \"/Panic-Project-DHLAB/data/SYM_720.csv\"\n",
    "input_path_PXPN = \"/Panic-Project-DHLAB/data/PXPN_720.csv\"\n",
    "SYM = pd.read_csv(input_path_SYM, index_col=False)\n",
    "PXPN = pd.read_csv(input_path_PXPN, index_col=False)\n",
    "result = pd.concat([SYM, PXPN], ignore_index=True)\n",
    "\n",
    "drop_cols = [c for c in ['Unnamed: 0'] if c in result.columns]\n",
    "result = result.drop(columns=drop_cols)\n",
    "result = result.drop(columns=['medication_in_month','SPAQ_1', 'SPAQ_2', 'BFNE', 'CES_D', 'KOSSSF', 'SADS', 'STAI_X1', 'mood', 'contents'])\n",
    "\n",
    "result.to_csv(output_path, index=False)"
   ]
  }
 ],
 "metadata": {
  "kernelspec": {
   "display_name": "base",
   "language": "python",
   "name": "python3"
  },
  "language_info": {
   "codemirror_mode": {
    "name": "ipython",
    "version": 3
   },
   "file_extension": ".py",
   "mimetype": "text/x-python",
   "name": "python",
   "nbconvert_exporter": "python",
   "pygments_lexer": "ipython3",
   "version": "3.11.5"
  }
 },
 "nbformat": 4,
 "nbformat_minor": 5
}
